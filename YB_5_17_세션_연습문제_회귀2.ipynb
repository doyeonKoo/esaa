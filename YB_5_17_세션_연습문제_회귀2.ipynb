{
 "cells": [
  {
   "cell_type": "markdown",
   "metadata": {
    "id": "OVjREzxqi3U1"
   },
   "source": [
    "# **1. 규제 선형 회귀 모델/ 회귀 트리**\n",
    "- 릿지 회귀모델 및 회귀 트리를 이용하여 전복의 나이를 예측해 보세요.\n",
    "\n",
    "- 전복의 ‘성별’, ‘키’, ‘지름’, ‘높이’, ‘전체무게’, ‘몸통무게’, ‘내장무게’, ‘껍질무게’를 이용해 ‘껍질의 고리수’를 예측한 뒤, **예측된 ‘껍질의 고리수’에 1.5를 더하면 전복의 나이**가 됩니다."
   ]
  },
  {
   "cell_type": "code",
   "execution_count": 38,
   "metadata": {
    "id": "AdMN1y-1i_G4"
   },
   "outputs": [],
   "source": [
    "# 기본 모듈 불러오기\n",
    "import numpy as np\n",
    "import pandas as pd\n",
    "\n",
    "import warnings\n",
    "warnings.filterwarnings(action='ignore')"
   ]
  },
  {
   "cell_type": "markdown",
   "metadata": {
    "id": "fK6WkTaUjF_9"
   },
   "source": [
    "### 1) 데이터 불러오기 및 데이터 선택"
   ]
  },
  {
   "cell_type": "code",
   "execution_count": 39,
   "metadata": {
    "colab": {
     "base_uri": "https://localhost:8080/",
     "height": 424
    },
    "id": "npiatc6TjCqM",
    "outputId": "bed1af77-af18-4ea5-a2cd-129cffb6d9c7"
   },
   "outputs": [],
   "source": [
    "# 데이터 로드\n",
    "data = pd.read_csv(\"abalone.csv\")\n",
    "\n",
    "# 성별 M은 Male, F는 Female, I는 Infant 이므로 따로 열 만들기\n",
    "for label in \"MFI\":\n",
    "    data[label] = data[\"Sex\"] == label\n",
    "data.drop('Sex', axis=1, inplace=True)\n",
    "\n",
    "# X,y 데이터 선택\n",
    "y = data.Rings.values\n",
    "data.drop('Rings', axis=1, inplace=True)\n",
    "\n",
    "X = data.values.astype(float)"
   ]
  },
  {
   "cell_type": "markdown",
   "metadata": {
    "id": "oRS_pBggjhWe"
   },
   "source": [
    "## 2) train/test 분리\n",
    ": 테스트 셋과 데이터 셋을 7:3 비율로 분리하세요."
   ]
  },
  {
   "cell_type": "code",
   "execution_count": 40,
   "metadata": {
    "id": "MCos735FjRUg"
   },
   "outputs": [],
   "source": [
    "# 필요한 모듈 불러오기\n",
    "from sklearn.model_selection import train_test_split"
   ]
  },
  {
   "cell_type": "code",
   "execution_count": 41,
   "metadata": {
    "id": "c2GBJgtRj0Ke"
   },
   "outputs": [],
   "source": [
    "# train과 test set 분리 (train:test = 7:3 비율로)\n",
    "X_train, X_test, y_train, y_test = train_test_split(X, y, test_size = 0.3)"
   ]
  },
  {
   "cell_type": "markdown",
   "metadata": {
    "id": "bOxHN7dsj3xP"
   },
   "source": [
    "## 3) 릿지 모델을 이용한 모델링\n",
    ": 릿지 모델을 이용하여 전복의 나이를 예측해 보고 결과를 평가해 보세요."
   ]
  },
  {
   "cell_type": "markdown",
   "metadata": {
    "id": "SpLjzL0yks5X"
   },
   "source": [
    " 3-1) 릿지모델 생성, 교차검증, 평가에 필요한 모듈을 불러오세요."
   ]
  },
  {
   "cell_type": "code",
   "execution_count": 42,
   "metadata": {
    "id": "rs5OSSjLj226"
   },
   "outputs": [],
   "source": [
    "#필요한 모듈 불러오기\n",
    "from sklearn.linear_model import Ridge"
   ]
  },
  {
   "cell_type": "markdown",
   "metadata": {
    "id": "-KTiaLjilHXT"
   },
   "source": [
    "3-2) 릿지 모델을 생성하고 훈련하여 MSE와 RMSE를 구하세요. 릿지 모델 생성 시  alpha는 0.3으로 설정합니다. (교차 검증 하지 않습니다.)"
   ]
  },
  {
   "cell_type": "code",
   "execution_count": 43,
   "metadata": {
    "id": "eK37aNO5lOT-"
   },
   "outputs": [
    {
     "name": "stdout",
     "output_type": "stream",
     "text": [
      "ridge 모델 mse :  10.47702109012791\n",
      "ridge 모델 rmse :  3.236822684381693\n"
     ]
    }
   ],
   "source": [
    "#릿지모델 생성 및 훈련\n",
    "ridge_model = Ridge(alpha = 0.3)\n",
    "ridge_model.fit(X_train, y_train)\n",
    "\n",
    "#예측값 구하기\n",
    "ridge_pred = ridge_model.predict(X_test)\n",
    "\n",
    "#구한 예측값을 활용해 최종적으로 전복의 나이 예측\n",
    "ridge_age_pred = ridge_pred*1.5\n",
    "\n",
    "#MSE와 RMSE구하기\n",
    "from sklearn.metrics import mean_squared_error\n",
    "print('ridge 모델 mse : ', mean_squared_error(y_test*1.5, ridge_age_pred))\n",
    "print('ridge 모델 rmse : ', np.sqrt(mean_squared_error(y_test*1.5, ridge_age_pred)))"
   ]
  },
  {
   "cell_type": "markdown",
   "metadata": {
    "id": "MK2LACYtliyO"
   },
   "source": [
    "3-3) 교차검증을 이용하여 0, 0.1, 1, 10, 100 중  모델 성능이 가장 좋게 나오는 (rmse가 최소가 되는) alpha를 구하세요."
   ]
  },
  {
   "cell_type": "code",
   "execution_count": 44,
   "metadata": {
    "id": "0Bf_TsDomO4i"
   },
   "outputs": [],
   "source": [
    "# 주어진 alpha\n",
    "alphas=[0, 0.1, 1, 10, 100]"
   ]
  },
  {
   "cell_type": "code",
   "execution_count": 45,
   "metadata": {
    "id": "n7Opz8bomXpM"
   },
   "outputs": [
    {
     "name": "stdout",
     "output_type": "stream",
     "text": [
      "alpha 0 일 때 5 folds의 평균 RMSE: 2.240\n",
      "alpha 0.1 일 때 5 folds의 평균 RMSE: 2.237\n",
      "alpha 1 일 때 5 folds의 평균 RMSE: 2.230\n",
      "alpha 10 일 때 5 folds의 평균 RMSE: 2.337\n",
      "alpha 100 일 때 5 folds의 평균 RMSE: 2.621\n"
     ]
    }
   ],
   "source": [
    "#alphas list 값을 반복하면서 alpha에 따른 평균 rmse를 구함\n",
    "from sklearn.model_selection import cross_val_score\n",
    "for alpha in alphas:\n",
    "  ridge = Ridge(alpha=alpha)\n",
    "  # cross_val_score를 이용해 5 폴드의 평균 RMSE를 계산\n",
    "  neg_mse_scores = cross_val_score(ridge, X,y, scoring='neg_mean_squared_error', cv=5)\n",
    "  avg_rmse = np.mean(np.sqrt(-1*neg_mse_scores))\n",
    "  print('alpha {0} 일 때 5 folds의 평균 RMSE: {1:.3f}'.format(alpha,avg_rmse))"
   ]
  },
  {
   "cell_type": "markdown",
   "metadata": {},
   "source": [
    "alpha = 0.1"
   ]
  },
  {
   "cell_type": "markdown",
   "metadata": {
    "id": "LpPsOGdcm5ch"
   },
   "source": [
    "## 4) XGBRegressor을 이용한 모델링\n",
    ": XGBRegressor 모델을 이용하여 전복의 나이를 예측해 보고 결과를 평가해 보세요."
   ]
  },
  {
   "cell_type": "markdown",
   "metadata": {
    "id": "mUIF11POny1k"
   },
   "source": [
    "4-1) XGBRegressor 훈련, 평가에 필요한 모듈을 불러오세요."
   ]
  },
  {
   "cell_type": "code",
   "execution_count": 46,
   "metadata": {
    "id": "0tB7r-_HnJen"
   },
   "outputs": [],
   "source": [
    "# 필요한 모듈 임포트\n",
    "from xgboost import XGBRegressor"
   ]
  },
  {
   "cell_type": "markdown",
   "metadata": {
    "id": "_Gl2TyADoC2S"
   },
   "source": [
    "4-2) XGBregressor 모델을 생성하고 훈련하여 MSE와 RMSE를 구하세요."
   ]
  },
  {
   "cell_type": "code",
   "execution_count": 47,
   "metadata": {
    "id": "KM5wcdkuoFk2"
   },
   "outputs": [
    {
     "name": "stdout",
     "output_type": "stream",
     "text": [
      "MSE:4.842, RMSE:2.200\n"
     ]
    }
   ],
   "source": [
    "#모델 생성 및 훈련\n",
    "xgb_reg=XGBRegressor(n_estimators=100)\n",
    "xgb_reg.fit(X_train, y_train)\n",
    "\n",
    "#예측값 구하기\n",
    "y_preds=xgb_reg.predict(X_test)\n",
    "\n",
    "#MSE와 RMSE 구하기\n",
    "mse=mean_squared_error(y_test, y_preds)\n",
    "rmse=np.sqrt(mse)\n",
    "\n",
    "print('MSE:{0:.3f}, RMSE:{1:.3f}'.format(mse, rmse))"
   ]
  },
  {
   "cell_type": "markdown",
   "metadata": {
    "id": "VkJBJHQ_qVUP"
   },
   "source": [
    "4-3) 생성한 모델의 피처 중요도를 시각화해보세요."
   ]
  },
  {
   "cell_type": "code",
   "execution_count": 49,
   "metadata": {
    "id": "MKD9V4AKpAPY"
   },
   "outputs": [
    {
     "data": {
      "text/plain": [
       "<Axes: >"
      ]
     },
     "execution_count": 49,
     "metadata": {},
     "output_type": "execute_result"
    },
    {
     "data": {
      "image/png": "[encoded data removed]",
      "text/plain": [
       "<Figure size 640x480 with 1 Axes>"
      ]
     },
     "metadata": {},
     "output_type": "display_data"
    }
   ],
   "source": [
    "import seaborn as sns\n",
    "%matplotlib inline\n",
    "\n",
    "feature_series=pd.Series(data=xgb_reg.feature_importances_, index=data.columns)\n",
    "feature_series=feature_series.sort_values(ascending=False)\n",
    "sns.barplot(x=feature_series, y=feature_series.index)"
   ]
  },
  {
   "cell_type": "markdown",
   "metadata": {
    "id": "r3_q8tIMscmi"
   },
   "source": [
    "---"
   ]
  },
  {
   "cell_type": "markdown",
   "metadata": {
    "id": "7fp_617QpGIK"
   },
   "source": [
    "# **2. 로지스틱 회귀분석**\n",
    "load_wine() 함수를 이용하여 와인 데이터를 다항분류하는 로지스틱 회귀모델을 생성하세요."
   ]
  },
  {
   "cell_type": "code",
   "execution_count": null,
   "metadata": {
    "id": "0s6eNftxpOku"
   },
   "outputs": [],
   "source": [
    "# 필요한 모듈 불러오기\n",
    "from sklearn.datasets import load_wine\n",
    "from sklearn.model_selection import train_test_split\n",
    "from sklearn.linear_model import LogisticRegression\n",
    "from sklearn import metrics"
   ]
  },
  {
   "cell_type": "markdown",
   "metadata": {
    "id": "COFC2gmIpWv8"
   },
   "source": [
    "## 1) 데이터 불러오기 및 변수 선택"
   ]
  },
  {
   "cell_type": "code",
   "execution_count": null,
   "metadata": {
    "id": "oyGjyyGWpgOn"
   },
   "outputs": [],
   "source": [
    "wine = load_wine()\n",
    "\n",
    "wine_x = wine.data # x변수\n",
    "wine_y = wine.target # y변수"
   ]
  },
  {
   "cell_type": "markdown",
   "metadata": {
    "id": "wwppN1b-pjAq"
   },
   "source": [
    "## 2) train/test 셋 분리"
   ]
  },
  {
   "cell_type": "code",
   "execution_count": null,
   "metadata": {
    "id": "WG0_2HQUpiVQ"
   },
   "outputs": [],
   "source": [
    "x_train, x_test, y_train, y_test = train_test_split(wine_x, wine_y, test_size=0.3, random_state=123)\n",
    "\n",
    "x_train.shape\n",
    "y_train.shape"
   ]
  },
  {
   "cell_type": "markdown",
   "metadata": {
    "id": "at-bYN42rsUK"
   },
   "source": [
    "## 3) 로지스틱 회귀모델을 이용한 모델링"
   ]
  },
  {
   "cell_type": "markdown",
   "metadata": {
    "id": "zd0Lf4Ejr_WQ"
   },
   "source": [
    "3-1) 로지스틱 회귀모델을 생성하여 훈련하세요."
   ]
  },
  {
   "cell_type": "code",
   "execution_count": null,
   "metadata": {
    "id": "5kaHD1nJpo9c"
   },
   "outputs": [],
   "source": [
    "logistic_reg = LogisticRegression()\n",
    "logistic_reg.fit(x_train, y_train)"
   ]
  },
  {
   "cell_type": "markdown",
   "metadata": {
    "id": "5icNrKefsR8A"
   },
   "source": [
    "3-2) 회귀 모델의 기울기와 절편을 구하세요."
   ]
  },
  {
   "cell_type": "code",
   "execution_count": null,
   "metadata": {
    "id": "fReIKxgLsU0_"
   },
   "outputs": [],
   "source": [
    "#기울기\n",
    "logistic_reg.coef_"
   ]
  },
  {
   "cell_type": "code",
   "execution_count": null,
   "metadata": {
    "id": "tbWm0jEnsbdJ"
   },
   "outputs": [],
   "source": [
    "#절편\n",
    "logistic_reg.intercept_"
   ]
  },
  {
   "cell_type": "markdown",
   "metadata": {
    "id": "Bq9ocTsystff"
   },
   "source": [
    "3-3) 모델의 정확도를 구하세요."
   ]
  },
  {
   "cell_type": "code",
   "execution_count": null,
   "metadata": {
    "id": "nQcUKZyOsy3J"
   },
   "outputs": [],
   "source": [
    "from sklearn.metrics import accuracy_score\n",
    "#모델의 예측값 구하기\n",
    "logistic_pred = logistic_reg.predict(x_test)\n",
    "\n",
    "#모델의 정확도 구하기\n",
    "print('accuracy: {:0.3f}'.format(accuracy_score(y_test, logistic_pred)))\n"
   ]
  }
 ],
 "metadata": {
  "colab": {
   "provenance": []
  },
  "kernelspec": {
   "display_name": "Python 3 (ipykernel)",
   "language": "python",
   "name": "python3"
  },
  "language_info": {
   "codemirror_mode": {
    "name": "ipython",
    "version": 3
   },
   "file_extension": ".py",
   "mimetype": "text/x-python",
   "name": "python",
   "nbconvert_exporter": "python",
   "pygments_lexer": "ipython3",
   "version": "3.11.7"
  }
 },
 "nbformat": 4,
 "nbformat_minor": 4
}
