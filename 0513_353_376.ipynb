{
 "cells": [
  {
   "cell_type": "markdown",
   "id": "f620b1d3-981f-4249-9e63-b09c0dac00b2",
   "metadata": {},
   "source": [
    "## 회귀 실습 - 캐글 주택 가격 : 고급 회귀 기법\n",
    "- 성능 평가 : RMSLE (RMSE를 하되 예측값과 실제 값의 로그 변환 값을 기반으로 수행)"
   ]
  },
  {
   "cell_type": "markdown",
   "id": "5c64aa83-eed9-49c0-8d31-932f70a988f0",
   "metadata": {},
   "source": [
    "### 데이터 사전 처리 (Preprocessing)\n",
    "- target 값은 맨 마지막 칼럼인 salesprice\n",
    "- 로그 변환한 결괏값 기반으로 학습한 뒤 예측 시 다시 결괏값을 expm1()로 추후 환원\n",
    "- Null이 너무 많은 칼럼은 삭제, ID도 단순 식별자이므로 삭제 logFrontage는 Null이 많으나 평균값으로 대체, null값이 많지 않은 피처는 평균값으로 대체\n",
    "- 문자형 피처는 원핫인코딩 (pd.get_dummies()는 Null값을 None칼럼으로 대체해주기 때문에 별도의 Null 대체 로직 필요 x)\n",
    "  "
   ]
  },
  {
   "cell_type": "code",
   "execution_count": 3,
   "id": "b5c8787e-ba56-4da3-98bb-852034de21b7",
   "metadata": {},
   "outputs": [
    {
     "data": {
      "text/html": [
       "<div>\n",
       "<style scoped>\n",
       "    .dataframe tbody tr th:only-of-type {\n",
       "        vertical-align: middle;\n",
       "    }\n",
       "\n",
       "    .dataframe tbody tr th {\n",
       "        vertical-align: top;\n",
       "    }\n",
       "\n",
       "    .dataframe thead th {\n",
       "        text-align: right;\n",
       "    }\n",
       "</style>\n",
       "<table border=\"1\" class=\"dataframe\">\n",
       "  <thead>\n",
       "    <tr style=\"text-align: right;\">\n",
       "      <th></th>\n",
       "      <th>Id</th>\n",
       "      <th>MSSubClass</th>\n",
       "      <th>MSZoning</th>\n",
       "      <th>LotFrontage</th>\n",
       "      <th>LotArea</th>\n",
       "      <th>Street</th>\n",
       "      <th>Alley</th>\n",
       "      <th>LotShape</th>\n",
       "      <th>LandContour</th>\n",
       "      <th>Utilities</th>\n",
       "      <th>...</th>\n",
       "      <th>PoolArea</th>\n",
       "      <th>PoolQC</th>\n",
       "      <th>Fence</th>\n",
       "      <th>MiscFeature</th>\n",
       "      <th>MiscVal</th>\n",
       "      <th>MoSold</th>\n",
       "      <th>YrSold</th>\n",
       "      <th>SaleType</th>\n",
       "      <th>SaleCondition</th>\n",
       "      <th>SalePrice</th>\n",
       "    </tr>\n",
       "  </thead>\n",
       "  <tbody>\n",
       "    <tr>\n",
       "      <th>0</th>\n",
       "      <td>1</td>\n",
       "      <td>60</td>\n",
       "      <td>RL</td>\n",
       "      <td>65.0</td>\n",
       "      <td>8450</td>\n",
       "      <td>Pave</td>\n",
       "      <td>NaN</td>\n",
       "      <td>Reg</td>\n",
       "      <td>Lvl</td>\n",
       "      <td>AllPub</td>\n",
       "      <td>...</td>\n",
       "      <td>0</td>\n",
       "      <td>NaN</td>\n",
       "      <td>NaN</td>\n",
       "      <td>NaN</td>\n",
       "      <td>0</td>\n",
       "      <td>2</td>\n",
       "      <td>2008</td>\n",
       "      <td>WD</td>\n",
       "      <td>Normal</td>\n",
       "      <td>208500</td>\n",
       "    </tr>\n",
       "    <tr>\n",
       "      <th>1</th>\n",
       "      <td>2</td>\n",
       "      <td>20</td>\n",
       "      <td>RL</td>\n",
       "      <td>80.0</td>\n",
       "      <td>9600</td>\n",
       "      <td>Pave</td>\n",
       "      <td>NaN</td>\n",
       "      <td>Reg</td>\n",
       "      <td>Lvl</td>\n",
       "      <td>AllPub</td>\n",
       "      <td>...</td>\n",
       "      <td>0</td>\n",
       "      <td>NaN</td>\n",
       "      <td>NaN</td>\n",
       "      <td>NaN</td>\n",
       "      <td>0</td>\n",
       "      <td>5</td>\n",
       "      <td>2007</td>\n",
       "      <td>WD</td>\n",
       "      <td>Normal</td>\n",
       "      <td>181500</td>\n",
       "    </tr>\n",
       "    <tr>\n",
       "      <th>2</th>\n",
       "      <td>3</td>\n",
       "      <td>60</td>\n",
       "      <td>RL</td>\n",
       "      <td>68.0</td>\n",
       "      <td>11250</td>\n",
       "      <td>Pave</td>\n",
       "      <td>NaN</td>\n",
       "      <td>IR1</td>\n",
       "      <td>Lvl</td>\n",
       "      <td>AllPub</td>\n",
       "      <td>...</td>\n",
       "      <td>0</td>\n",
       "      <td>NaN</td>\n",
       "      <td>NaN</td>\n",
       "      <td>NaN</td>\n",
       "      <td>0</td>\n",
       "      <td>9</td>\n",
       "      <td>2008</td>\n",
       "      <td>WD</td>\n",
       "      <td>Normal</td>\n",
       "      <td>223500</td>\n",
       "    </tr>\n",
       "  </tbody>\n",
       "</table>\n",
       "<p>3 rows × 81 columns</p>\n",
       "</div>"
      ],
      "text/plain": [
       "   Id  MSSubClass MSZoning  LotFrontage  LotArea Street Alley LotShape  \\\n",
       "0   1          60       RL         65.0     8450   Pave   NaN      Reg   \n",
       "1   2          20       RL         80.0     9600   Pave   NaN      Reg   \n",
       "2   3          60       RL         68.0    11250   Pave   NaN      IR1   \n",
       "\n",
       "  LandContour Utilities  ... PoolArea PoolQC Fence MiscFeature MiscVal MoSold  \\\n",
       "0         Lvl    AllPub  ...        0    NaN   NaN         NaN       0      2   \n",
       "1         Lvl    AllPub  ...        0    NaN   NaN         NaN       0      5   \n",
       "2         Lvl    AllPub  ...        0    NaN   NaN         NaN       0      9   \n",
       "\n",
       "  YrSold  SaleType  SaleCondition  SalePrice  \n",
       "0   2008        WD         Normal     208500  \n",
       "1   2007        WD         Normal     181500  \n",
       "2   2008        WD         Normal     223500  \n",
       "\n",
       "[3 rows x 81 columns]"
      ]
     },
     "execution_count": 3,
     "metadata": {},
     "output_type": "execute_result"
    }
   ],
   "source": [
    "import warnings\n",
    "warnings.filterwarnings('ignore')\n",
    "import pandas as pd\n",
    "import numpy as np\n",
    "import seaborn as sns\n",
    "import matplotlib.pyplot as plt\n",
    "%matplotlib inline\n",
    "\n",
    "house_df_org = pd.read_csv('train_house_prices.csv')\n",
    "house_df = house_df_org.copy()\n",
    "house_df.head(3)"
   ]
  },
  {
   "cell_type": "code",
   "execution_count": 4,
   "id": "f6a07ba5-dfa7-445e-9c2a-63a48d0611f3",
   "metadata": {},
   "outputs": [
    {
     "name": "stdout",
     "output_type": "stream",
     "text": [
      "데이터 세트의 Shape: (1460, 81)\n",
      "\n",
      "전체 피처의 type\n",
      " object     43\n",
      "int64      35\n",
      "float64     3\n",
      "Name: count, dtype: int64\n",
      "\n",
      "Null 칼럼과 그 건수\n",
      " PoolQC          1453\n",
      "MiscFeature     1406\n",
      "Alley           1369\n",
      "Fence           1179\n",
      "MasVnrType       872\n",
      "FireplaceQu      690\n",
      "LotFrontage      259\n",
      "GarageType        81\n",
      "GarageYrBlt       81\n",
      "GarageFinish      81\n",
      "GarageQual        81\n",
      "GarageCond        81\n",
      "BsmtFinType2      38\n",
      "BsmtExposure      38\n",
      "BsmtFinType1      37\n",
      "BsmtCond          37\n",
      "BsmtQual          37\n",
      "MasVnrArea         8\n",
      "Electrical         1\n",
      "dtype: int64\n"
     ]
    }
   ],
   "source": [
    "# 데이터 세트 전체 크기, 칼럼 타입, Null 존재 칼럼과 건수(내림차순)\n",
    "print('데이터 세트의 Shape:', house_df.shape)\n",
    "print('\\n전체 피처의 type\\n', house_df.dtypes.value_counts())\n",
    "isnull_series = house_df.isnull().sum()\n",
    "print('\\nNull 칼럼과 그 건수\\n', isnull_series[isnull_series>0].sort_values(ascending=False))\n",
    "# null이 너무 많은 칼럼은 제거"
   ]
  },
  {
   "cell_type": "code",
   "execution_count": 15,
   "id": "0f5d20f1-1e22-46e9-8f13-007223e9aa14",
   "metadata": {},
   "outputs": [
    {
     "data": {
      "text/plain": [
       "<Axes: title={'center': 'Original Sale Price Histogram'}, xlabel='SalePrice', ylabel='Density'>"
      ]
     },
     "execution_count": 15,
     "metadata": {},
     "output_type": "execute_result"
    },
    {
     "data": {
      "image/png": "[encoded data removed]",
      "text/plain": [
       "<Figure size 640x480 with 1 Axes>"
      ]
     },
     "metadata": {},
     "output_type": "display_data"
    }
   ],
   "source": [
    "plt.title('Original Sale Price Histogram')\n",
    "sns.distplot(house_df['SalePrice'])\n",
    "# 왼쪽으로 치우치고 정규 분포가 아님"
   ]
  },
  {
   "cell_type": "code",
   "execution_count": 16,
   "id": "ed1f2bae-4971-4119-843b-2329dfb3e7f3",
   "metadata": {},
   "outputs": [
    {
     "data": {
      "text/plain": [
       "<Axes: title={'center': 'Log Transformed Sale Price Histogram'}, xlabel='SalePrice', ylabel='Density'>"
      ]
     },
     "execution_count": 16,
     "metadata": {},
     "output_type": "execute_result"
    },
    {
     "data": {
      "image/png": "[encoded data removed]",
      "text/plain": [
       "<Figure size 640x480 with 1 Axes>"
      ]
     },
     "metadata": {},
     "output_type": "display_data"
    }
   ],
   "source": [
    "plt.title('Log Transformed Sale Price Histogram')\n",
    "log_SalePrice = np.log1p(house_df['SalePrice'])\n",
    "sns.distplot(log_SalePrice)"
   ]
  },
  {
   "cell_type": "code",
   "execution_count": 5,
   "id": "f123d9df-dd6d-40c5-a4a7-475400212ddc",
   "metadata": {},
   "outputs": [
    {
     "name": "stdout",
     "output_type": "stream",
     "text": [
      "## NUll 피처의 Type: \n",
      " MasVnrType      object\n",
      "BsmtQual        object\n",
      "BsmtCond        object\n",
      "BsmtExposure    object\n",
      "BsmtFinType1    object\n",
      "BsmtFinType2    object\n",
      "Electrical      object\n",
      "GarageType      object\n",
      "GarageFinish    object\n",
      "GarageQual      object\n",
      "GarageCond      object\n",
      "dtype: object\n"
     ]
    }
   ],
   "source": [
    "#SalePrice 로그 변환\n",
    "original_SalePrice = house_df['SalePrice']\n",
    "house_df['SalePrice'] = np.log1p(house_df['SalePrice'])\n",
    "\n",
    "#Null이 너무 많은 칼럼과 불필요한 칼럼 삭제\n",
    "house_df.drop(['Id','PoolQC', 'MiscFeature','Alley','Fence','FireplaceQu'], axis=1,inplace=True)\n",
    "\n",
    "#드롭하지 않은 숫자형 Null 칼럼은 평균값으로 대체\n",
    "house_df.fillna(house_df.mean(numeric_only=True), inplace=True)\n",
    "\n",
    "#Null 값이 있는 피처명과 타입을 추출\n",
    "null_column_count = house_df.isnull().sum()[house_df.isnull().sum()>0]\n",
    "print('## NUll 피처의 Type: \\n', house_df.dtypes[null_column_count.index])"
   ]
  },
  {
   "cell_type": "code",
   "execution_count": 6,
   "id": "c00b74da-5e5a-4b2c-8f11-58d738a07bc9",
   "metadata": {},
   "outputs": [
    {
     "name": "stdout",
     "output_type": "stream",
     "text": [
      "get_dummies() 수행 전 데이터 shape: (1460, 75)\n",
      "get_dummies() 수행 후 데이터 shape: (1460, 270)\n"
     ]
    }
   ],
   "source": [
    "print('get_dummies() 수행 전 데이터 shape:', house_df.shape)\n",
    "house_df_ohe = pd.get_dummies(house_df)\n",
    "print('get_dummies() 수행 후 데이터 shape:', house_df_ohe.shape)"
   ]
  },
  {
   "cell_type": "code",
   "execution_count": 7,
   "id": "38930893-45b9-4f67-b35b-39797eeb9492",
   "metadata": {},
   "outputs": [
    {
     "name": "stdout",
     "output_type": "stream",
     "text": [
      "## null 피처의 type:\n",
      " Series([], dtype: object)\n"
     ]
    }
   ],
   "source": [
    "null_column_count = house_df_ohe.isnull().sum()[house_df_ohe.isnull().sum() > 0]\n",
    "print('## null 피처의 type:\\n', house_df_ohe.dtypes[null_column_count.index])"
   ]
  },
  {
   "cell_type": "markdown",
   "id": "ae8a3633-fdb5-4716-8ea8-2f1c92e63263",
   "metadata": {},
   "source": [
    "### 선형 회귀 모델 학습/예측/평가\n",
    "- 이미 실제 값이 로그 변환됐고 예측값도 이를 적용하므로 예측 결과 오류에 RMSE만 적용하면 RMSLE가 자동 측정"
   ]
  },
  {
   "cell_type": "code",
   "execution_count": 8,
   "id": "d829d2a7-7366-45c7-b5a1-b94820c9fa32",
   "metadata": {},
   "outputs": [],
   "source": [
    "from sklearn.metrics import mean_squared_error\n",
    "def get_rmse(model): # 단일 모델 RMSE\n",
    "  pred = model.predict(X_test)\n",
    "  mse = mean_squared_error(y_test, pred)\n",
    "  rmse = np.sqrt(mse)\n",
    "  print(model.__class__.__name__, '로그 변환된 RMSE:', np.round(rmse, 3))\n",
    "  return rmse\n",
    "\n",
    "def get_rmses(models): # 여러 모델의 RMSE\n",
    "  rmses = []\n",
    "  for model in models:\n",
    "    rmse = get_rmse(model)\n",
    "    rmses.append(rmse)\n",
    "  return rmses"
   ]
  },
  {
   "cell_type": "code",
   "execution_count": 9,
   "id": "3edb0742-11ad-4859-8156-8b6544b61ac5",
   "metadata": {},
   "outputs": [],
   "source": [
    "from sklearn.linear_model import LinearRegression, Ridge, Lasso\n",
    "from sklearn.model_selection import train_test_split\n",
    "from sklearn.metrics import mean_squared_error"
   ]
  },
  {
   "cell_type": "code",
   "execution_count": 10,
   "id": "6bd484b9-9fe0-4ca4-a5bf-5561586076c4",
   "metadata": {},
   "outputs": [
    {
     "name": "stdout",
     "output_type": "stream",
     "text": [
      "LinearRegression 로그 변환된 RMSE: 0.132\n",
      "Ridge 로그 변환된 RMSE: 0.127\n",
      "Lasso 로그 변환된 RMSE: 0.176\n"
     ]
    },
    {
     "data": {
      "text/plain": [
       "[0.13183184688250074, 0.1274058283626615, 0.17628250556471403]"
      ]
     },
     "execution_count": 10,
     "metadata": {},
     "output_type": "execute_result"
    }
   ],
   "source": [
    "y_target = house_df_ohe['SalePrice']\n",
    "X_features = house_df_ohe.drop('SalePrice', axis=1, inplace=False)\n",
    "X_train, X_test, y_train, y_test = train_test_split(X_features, y_target, test_size=0.2, random_state=156)\n",
    "\n",
    "# LinearRegression, Ridge, Lasso 학습, 예측, 평가\n",
    "lr_reg = LinearRegression()\n",
    "lr_reg.fit(X_train, y_train)\n",
    "ridge_reg = Ridge()\n",
    "ridge_reg.fit(X_train, y_train)\n",
    "lasso_reg = Lasso()\n",
    "lasso_reg.fit(X_train, y_train)\n",
    "\n",
    "models = [lr_reg, ridge_reg, lasso_reg]\n",
    "get_rmses(models)\n",
    "\n",
    "# LASSO 회귀의 경우 성능이 타 방식보다 많이 떨어짐\n",
    "# 최적의 하이퍼 파라미터 튜닝이 필요해 보임"
   ]
  },
  {
   "cell_type": "code",
   "execution_count": 27,
   "id": "c9bf8787-079d-4b6a-bc14-9901b5e9f854",
   "metadata": {},
   "outputs": [],
   "source": [
    "def get_top_bottom_coef(model, n=10) :\n",
    "    # coef_ 속성을 기반으로 Series 객체를 생성, index는 칼럼명\n",
    "    coef = pd.Series(model.coef_, index=X_features.columns)\n",
    "    # + 상위 10, - 하위 10개 회귀 계수 추출해 반환\n",
    "    coef_high = coef.sort_values(ascending = False).head(n)\n",
    "    coef_low = coef.sort_values(ascending = False).tail(n)\n",
    "    return coef_high, coef_low"
   ]
  },
  {
   "cell_type": "code",
   "execution_count": 26,
   "id": "3943b950-40fc-47b6-924e-3fcb0f6c9a6c",
   "metadata": {},
   "outputs": [],
   "source": [
    "def visualize_coefficient(models) :\n",
    "    # 3개 회귀모델의 시각화를 위해 3개의 칼럼을 가지는 subplot 생성\n",
    "    fig, axs = plt.subplots(figsize = (24,10), nrows = 1, ncols = 3)\n",
    "    fig.tight_layout()\n",
    "    # 입력 인자로 받은 list객체인 models에서 차례로 모델을 추출해 회귀계수시각화\n",
    "    for i_num, model in enumerate(models) :\n",
    "        # 상위 10, 하위 10개 회귀계수를 구하고 이를 판다스 concat로 결합\n",
    "        coef_high, coef_low = get_top_bottom_coef(model)\n",
    "        coef_concat=pd.concat([coef_high, coef_low])\n",
    "        # ax subplot에 barchar로 표현, 한 화면에 표현하기 위해 tick label 위치와 font 조정\n",
    "        axs[i_num].set_title(model.__class__.__name__+'coefficients',size=25)\n",
    "        axs[i_num].tick_params(axis='y', direction='in',pad=-120)\n",
    "        for label in (axs[i_num].get_xticklabels() + axs[i_num].get_yticklabels()) :\n",
    "            label.set_fontsize(22)\n",
    "        sns.barplot(x=coef_concat.values, y = coef_concat.index, ax=axs[i_num])\n",
    "    # 앞예제에서 학습한 lr_reg, ridge_reg, lasso_reg 모델의 회귀계수 시각화\n",
    "    models = [lr_reg, ridge_reg, lasso_reg]\n",
    "    visualize_coefficient(models)"
   ]
  },
  {
   "cell_type": "code",
   "execution_count": null,
   "id": "144563ce-1ee9-4f06-ab17-6caa6cba1ed1",
   "metadata": {},
   "outputs": [],
   "source": [
    "models = [lr_reg, ridge_reg, lasso_reg]\n",
    "visualize_coefficient(models)"
   ]
  },
  {
   "cell_type": "code",
   "execution_count": 15,
   "id": "e0c5fd46-852c-4022-902f-b2004961fb4f",
   "metadata": {},
   "outputs": [
    {
     "name": "stdout",
     "output_type": "stream",
     "text": [
      "Ridge 5 CV 시 최적 평균 RMSE 값 : 0.1275, 최적 alpha: {'alpha': 10}\n",
      "Lasso 5 CV 시 최적 평균 RMSE 값 : 0.1252, 최적 alpha: {'alpha': 0.001}\n"
     ]
    }
   ],
   "source": [
    "from sklearn.model_selection import GridSearchCV\n",
    "def print_best_params(model, params):\n",
    "  grid_model = GridSearchCV(model, param_grid=params,scoring='neg_mean_squared_error',cv=5)\n",
    "  grid_model.fit(X_features,y_target)\n",
    "  rmse = np.sqrt(-1*grid_model.best_score_)\n",
    "  print('{0} 5 CV 시 최적 평균 RMSE 값 : {1}, 최적 alpha: {2}'.format(model.__class__.__name__, np.round(rmse,4), grid_model.best_params_))\n",
    "\n",
    "ridge_params = {'alpha' : [0.05,0.1,1,5,8,10,12,15,20]}\n",
    "lasso_params = {'alpha' : [0.001,0.005,0.008,0.05,0.03,0.1,0.5,1,5,10]}\n",
    "print_best_params(ridge_reg, ridge_params) \n",
    "print_best_params(lasso_reg, lasso_params)"
   ]
  },
  {
   "cell_type": "code",
   "execution_count": null,
   "id": "1e06af21-b0c9-4ae7-a9a7-bc6f0e76040c",
   "metadata": {},
   "outputs": [
    {
     "name": "stdout",
     "output_type": "stream",
     "text": [
      "LinearRegression 로그 변환된 RMSE: 0.132\n",
      "Ridge 로그 변환된 RMSE: 0.124\n",
      "Lasso 로그 변환된 RMSE: 0.12\n"
     ]
    }
   ],
   "source": [
    "# 앞의 최적화 alpha 값으로 학습 데이터로 학습, 테스트 데이터로 예측 및 평가 수행\n",
    "lr_reg = LinearRegression()\n",
    "lr_reg.fit(X_train, y_train)\n",
    "ridge_reg = Ridge(alpha = 12)\n",
    "ridge_reg.fit(X_train, y_train)\n",
    "lasso_reg = Lasso(alpha = 0.001)\n",
    "lasso_reg.fit(X_train, y_train)\n",
    "# 모든 모델의 rmse 출력\n",
    "models = [lr_reg, ridge_reg, lasso_reg]\n",
    "get_rmses(models)\n",
    "# 모든 모델의 회귀 계수 시각화\n",
    "models = [lr_reg, ridge_reg, lasso_reg]\n",
    "visualize_coefficient(models)\n",
    "\n",
    "# 최적화 후 테스트 데이터 세트의 예측 성능이 더 좋아지고 모델별 회귀 계수도 달라짐"
   ]
  },
  {
   "cell_type": "markdown",
   "id": "b0c322ec-75f8-4101-868d-c5076b48eb1c",
   "metadata": {},
   "source": [
    "[추가적인 모델 튜닝]\n",
    "1. 피처 데이터 세트의 데이터 분포도\n",
    "2. 이상치 데이터 처리"
   ]
  },
  {
   "cell_type": "markdown",
   "id": "e76edd60-ca1b-4dd2-8a48-f762f891ebb4",
   "metadata": {},
   "source": [
    "사이파이 stats 모듈의 skew() 함수를 이용해 칼럼의 왜곡된 정보를 추출\n",
    "\n",
    "- 일반적으로 skew() 함수의 반환 값이 1 이상인 경우 왜곡 정도가 높다고 판단"
   ]
  },
  {
   "cell_type": "code",
   "execution_count": 12,
   "id": "14540982-1f27-4cb7-a56d-7c61fc30b2b2",
   "metadata": {},
   "outputs": [
    {
     "name": "stdout",
     "output_type": "stream",
     "text": [
      "MiscVal          24.451640\n",
      "PoolArea         14.813135\n",
      "LotArea          12.195142\n",
      "3SsnPorch        10.293752\n",
      "LowQualFinSF      9.002080\n",
      "KitchenAbvGr      4.483784\n",
      "BsmtFinSF2        4.250888\n",
      "ScreenPorch       4.117977\n",
      "BsmtHalfBath      4.099186\n",
      "EnclosedPorch     3.086696\n",
      "MasVnrArea        2.673661\n",
      "LotFrontage       2.382499\n",
      "OpenPorchSF       2.361912\n",
      "BsmtFinSF1        1.683771\n",
      "WoodDeckSF        1.539792\n",
      "TotalBsmtSF       1.522688\n",
      "MSSubClass        1.406210\n",
      "1stFlrSF          1.375342\n",
      "GrLivArea         1.365156\n",
      "dtype: float64\n"
     ]
    }
   ],
   "source": [
    "from scipy.stats import skew\n",
    "# object가 아닌 숫자형 피처의 칼럼 index 객체 추출\n",
    "features_index = house_df.dtypes[house_df.dtypes != 'object'].index\n",
    "# house_df에 칼럼 index를 []로 입력하면 해당하는 칼럼 데이터 세트 반환, apply lambda로 skew() 호출\n",
    "skew_features = house_df[features_index].apply(lambda x : skew(x))\n",
    "# skew(왜곡) 정도가 1 이상인 칼럼만 추출\n",
    "skew_features_top = skew_features[skew_features > 1]\n",
    "print(skew_features_top.sort_values(ascending = False))"
   ]
  },
  {
   "cell_type": "code",
   "execution_count": 13,
   "id": "3495d869-a515-4ef4-b66a-2e8099259610",
   "metadata": {},
   "outputs": [],
   "source": [
    "house_df[skew_features_top.index] = np.log1p(house_df[skew_features_top.index])"
   ]
  },
  {
   "cell_type": "code",
   "execution_count": 16,
   "id": "e9067504-9a89-47a0-baa6-37e8ccc35d6c",
   "metadata": {},
   "outputs": [
    {
     "name": "stdout",
     "output_type": "stream",
     "text": [
      "Ridge 5 CV 시 최적 평균 RMSE 값 : 0.1275, 최적 alpha: {'alpha': 10}\n",
      "Lasso 5 CV 시 최적 평균 RMSE 값 : 0.1252, 최적 alpha: {'alpha': 0.001}\n"
     ]
    }
   ],
   "source": [
    "#왜곡 정도가 높은 피처를 로그 변환했으므로 다시 원-핫 인코딩을 적용하고 피처/타깃 데이터 세트 생성\n",
    "house_df_ohe = pd.get_dummies(house_df)\n",
    "y_target = house_df_ohe['SalePrice']\n",
    "X_features = house_df_ohe.drop('SalePrice', axis=1, inplace=False)\n",
    "X_train, X_test, y_train, y_test = train_test_split(X_features, y_target, test_size=0.2, random_state = 156)\n",
    "\n",
    "#피처를 로그 변환한 후 다시 최적 하이퍼 파라미터와 RMSE 출력\n",
    "ridge_params = { 'alpha' : [.005,0.1,1,5,8,10,12,15,20]}\n",
    "lasso_params = { 'alpha' : [0.001,0.005,0.008,0.05,0.03,0.1,0.5,1,5,10]}\n",
    "print_best_params(ridge_reg, ridge_params)\n",
    "print_best_params(lasso_reg, lasso_params)"
   ]
  },
  {
   "cell_type": "code",
   "execution_count": 19,
   "id": "06ac3201-eeab-44cd-9da4-2cf14e9d2a73",
   "metadata": {},
   "outputs": [
    {
     "data": {
      "image/png": "[encoded data removed]",
      "text/plain": [
       "<Figure size 640x480 with 1 Axes>"
      ]
     },
     "metadata": {},
     "output_type": "display_data"
    }
   ],
   "source": [
    "plt.scatter(x = house_df_org['GrLivArea'], y=house_df_org['SalePrice'])\n",
    "plt.ylabel('SalePrice', fontsize = 15)\n",
    "plt.xlabel('GrLivArea', fontsize = 15)\n",
    "plt.show()"
   ]
  },
  {
   "cell_type": "code",
   "execution_count": 17,
   "id": "d625096d-c1fc-4a5e-b56c-4f0bf8443364",
   "metadata": {},
   "outputs": [
    {
     "name": "stdout",
     "output_type": "stream",
     "text": [
      "이상치 레코드 index :  [ 523 1298]\n",
      "이상치 삭제 전 house_df_ohe shape :  (1460, 270)\n",
      "이상치 삭제 후 house_df_ohe shape :  (1458, 270)\n"
     ]
    }
   ],
   "source": [
    "# grlivarea와 saleprice 모두 로그 변환됐으므로 이를 반영한 조건 생성\n",
    "cond1 = house_df_ohe['GrLivArea'] > np.log1p(4000)\n",
    "cond2 = house_df_ohe['SalePrice'] < np.log1p(500000)\n",
    "outlier_index = house_df_ohe[cond1 &cond2].index\n",
    "\n",
    "print('이상치 레코드 index : ', outlier_index.values)\n",
    "print('이상치 삭제 전 house_df_ohe shape : ', house_df_ohe.shape)\n",
    "\n",
    "# df의 인덱스를 이용해 이상치 레코드 삭제\n",
    "house_df_ohe.drop(outlier_index, axis = 0, inplace = True)\n",
    "print('이상치 삭제 후 house_df_ohe shape : ', house_df_ohe.shape)"
   ]
  },
  {
   "cell_type": "code",
   "execution_count": 18,
   "id": "72175b9d-e518-4f23-a4ce-73bfd162377a",
   "metadata": {},
   "outputs": [
    {
     "name": "stdout",
     "output_type": "stream",
     "text": [
      "Ridge 5 CV 시 최적 평균 RMSE 값 : 0.1125, 최적 alpha: {'alpha': 8}\n",
      "Lasso 5 CV 시 최적 평균 RMSE 값 : 0.1122, 최적 alpha: {'alpha': 0.001}\n"
     ]
    }
   ],
   "source": [
    "y_target = house_df_ohe['SalePrice']\n",
    "X_features = house_df_ohe.drop('SalePrice', axis=1, inplace=False)\n",
    "X_train, X_test,y_train, y_test = train_test_split(X_features, y_target, test_size=0.2, random_state=156)\n",
    "ridge_params = {'alpha' : [0.05,0.1,1,5,8,10,12,15,20]}\n",
    "lasso_params = {'alpha' : [0.001,0.005,0.008,0.05,0.03,0.1,0.5,1,5,10]}\n",
    "print_best_params(ridge_reg, ridge_params)\n",
    "print_best_params(lasso_reg, lasso_params)\n",
    "\n",
    "# 단 두개의 이상치 데이터만 제거해도 예측 수치 크게 향상\n",
    "# 회귀에 중요한 영향을 미치는 피처 위주로 이상치 데이터를 찾으려는 노력은 중요함"
   ]
  },
  {
   "cell_type": "markdown",
   "id": "90dc1cbc-5297-48e8-9674-39efa9ce78b1",
   "metadata": {},
   "source": [
    "### 회귀 트리 모델 학습/예측/평가"
   ]
  },
  {
   "cell_type": "code",
   "execution_count": 20,
   "id": "59a215f8-16c4-4ad5-b669-ba33cfb69265",
   "metadata": {},
   "outputs": [
    {
     "name": "stdout",
     "output_type": "stream",
     "text": [
      "XGBRegressor 5 CV 시 최적 평균 RMSE 값 : 0.1174, 최적 alpha: {'n_estimators': 1000}\n"
     ]
    }
   ],
   "source": [
    "from xgboost import XGBRegressor\n",
    "xgb_params ={'n_estimators' : [1000]}\n",
    "xgb_reg = XGBRegressor(n_estimators = 1000, learning_rate = 0.05, colsample_bytree = 0.5, subsample = 0.8)\n",
    "print_best_params(xgb_reg, xgb_params)"
   ]
  },
  {
   "cell_type": "code",
   "execution_count": 22,
   "id": "f946a763-d438-4d0a-9da6-d0733c0e4cd0",
   "metadata": {},
   "outputs": [
    {
     "name": "stdout",
     "output_type": "stream",
     "text": [
      "LGBMRegressor 5 CV 시 최적 평균 RMSE 값 : 0.1168, 최적 alpha: {'n_estimators': 1000}\n"
     ]
    }
   ],
   "source": [
    "from lightgbm import LGBMRegressor\n",
    "lgbm_params = {'n_estimators' : [1000]}\n",
    "lgbm_reg = LGBMRegressor(n_estimators = 1000, learning_rate = 0.05, num_leaves = 4, subsamples = 0.6, \n",
    "                        colsample_bytree = 0.4, reg_lambda = 10, n_jobs = -1)\n",
    "print_best_params(lgbm_reg, lgbm_params)"
   ]
  },
  {
   "cell_type": "markdown",
   "id": "289d561c-23f3-412f-8346-1e025be462ee",
   "metadata": {},
   "source": [
    "### 회귀 모델의 예측 결과 혼합을 통한 최종 예측"
   ]
  },
  {
   "cell_type": "code",
   "execution_count": 22,
   "id": "fb20fc3b-cecd-4657-91df-5c9c53f679dd",
   "metadata": {},
   "outputs": [],
   "source": [
    "def get_rmse_pred(preds) :\n",
    "    for key in preds.keys() :\n",
    "        pred_value = preds[key]\n",
    "        mse = mean_squared_error(y_test, pred_value)\n",
    "        rmse = np.sqrt(mse)\n",
    "        print('{0} 모델의 RMSE : {1}'.format(key, rmse))"
   ]
  },
  {
   "cell_type": "code",
   "execution_count": 23,
   "id": "840846fb-b880-4448-8bd4-1889b1cdb637",
   "metadata": {},
   "outputs": [
    {
     "name": "stdout",
     "output_type": "stream",
     "text": [
      "최종 혼합 모델의 RMSE : 5.403231376769426\n",
      "ridge 모델의 RMSE : 0.10340697165289346\n",
      "lasso 모델의 RMSE : 0.10024171179335328\n"
     ]
    }
   ],
   "source": [
    "# 개별 모델의 학습\n",
    "ridge_reg = Ridge(alpha = 8)\n",
    "ridge_reg.fit(X_train, y_train)\n",
    "lasso_reg = Lasso(alpha = 0.001)\n",
    "lasso_reg.fit(X_train, y_train)\n",
    "# 개별 모델 예측\n",
    "ridge_pred = ridge_reg.predict(X_test)\n",
    "lasso_pred = lasso_reg.predict(X_test)\n",
    "# 개별 모델 예측값 혼합으로 최종 예측값 도출\n",
    "pred = 0.4*ridge_pred + 0.6 + lasso_pred\n",
    "preds = {'최종 혼합' : pred, 'ridge' : ridge_pred, 'lasso' : lasso_pred }\n",
    "# 최종 혼합 모델, 개별 모델의 RMSE 출력\n",
    "get_rmse_pred(preds)"
   ]
  },
  {
   "cell_type": "code",
   "execution_count": 24,
   "id": "380490b3-ca88-4639-9126-323770bb824b",
   "metadata": {},
   "outputs": [],
   "source": [
    "xgb_reg = XGBRegressor(n_estimators=1000, learning_rate=0.05, colsample_bytree=0.5, subsample=0.8)\n",
    "lgbm_reg = LGBMRegressor(n_estimators=1000, learning_rate=0.05, num_leaves = 4, subsample=0.6, colsample_by_tree=0.4, reg_lambda=10, n_jobs=-1)\n",
    "\n",
    "xgb_reg.fit(X_train, y_train)\n",
    "lgbm_reg.fit(X_train, y_train)\n",
    "xgb_pred = xgb_reg.predict(X_test)\n",
    "lgbm_pred = lgbm_reg.predict(X_test)\n",
    "\n",
    "pred = 0.5*xgb_pred + 0.5*lgbm_pred\n",
    "preds = {'최종 혼합': pred,\n",
    "         'XGBM' : xgb_pred,\n",
    "         'LGBM' : lgbm_pred}"
   ]
  },
  {
   "cell_type": "markdown",
   "id": "04f3ad1d-9301-4011-bfca-61a5174dd2fd",
   "metadata": {},
   "source": [
    "### 스태킹 앙상블 모델을 통한 회귀 예측"
   ]
  },
  {
   "cell_type": "code",
   "execution_count": 1,
   "id": "0d4877d1-a0d4-4c83-8849-a7de5c1e4af7",
   "metadata": {},
   "outputs": [],
   "source": [
    "from sklearn.model_selection import KFold\n",
    "from sklearn.metrics import mean_absolute_error\n",
    "\n",
    "#개별 기반 모델에서 최종 메타 모델이 사용할 학습 및 테스트용 데이터를 생성하기 위한 함수.\n",
    "def get_stacking_base_datasets(model, X_train_n, y_train_n, X_test_n, n_folds):\n",
    "  #지정된 n_folds 값으로 KFold 생성\n",
    "  kf = KFold(n_splits = n_folds, shuffle = False)\n",
    "  #추후에 메타 모델이 사용할 학습 데이터 반환을 위한 넘파이 배열 초기화\n",
    "  train_fold_pred = np.zeros((X_train_n.shape[0],1))\n",
    "  test_pred = np.zeros((X_test_n.shape[0], n_folds))\n",
    "  print(model.__class__.__name__,'model 시작')\n",
    "\n",
    "  for folder_counter, (train_index, valid_index) in enumerate(kf.split(X_train_n)):\n",
    "    #입력된 학습 데이터에서 기반 모델이 학습/예측할 폴드 데이터 세트 추출\n",
    "    print('\\t 폴드 세트:', folder_counter, '시작')\n",
    "    X_tr = X_train_n[train_index]\n",
    "    y_tr = y_train_n[train_index]\n",
    "    X_te = X_train_n[valid_index]\n",
    "\n",
    "    #폴드 세트 내부에서 다시 만들어진 학습 데이터로 기반 모델의 학습 수행\n",
    "    model.fit(X_tr, y_tr)\n",
    "    #폴드 세트 내부에서 다시 만들어진 검증 데이터로 기반 모델 예측 후 데이터 저장.\n",
    "    train_fold_pred[valid_index, :] = model.predict(X_te).reshape(-1,1)\n",
    "    #입력된 원본 테스트 데이터를 폴드 세트 내 학습된 기반 모델에서 예측 후 데이터 저장.\n",
    "    test_pred[:, folder_counter] = model.predict(X_test_n)\n",
    "\n",
    "  #폴듣 세트 내에서 원본 테스트 데이터를 예측한 데이터를 평균하여 테스트 데이터로 생성\n",
    "  test_pred_mean = np.mean(test_pred, axis =1).reshape(-1,1)\n",
    "\n",
    "  #train_fold_pred는 최종 메타 모델이 사용하는 학습 데이터, test_pred_mean은 테스트 데이터\n",
    "  return train_fold_pred, test_pred_mean"
   ]
  },
  {
   "cell_type": "code",
   "execution_count": 23,
   "id": "476db722-f0ab-42f8-a89e-2957a2736c9b",
   "metadata": {},
   "outputs": [
    {
     "name": "stdout",
     "output_type": "stream",
     "text": [
      "Ridge model 시작\n",
      "\t 폴드 세트: 0 시작\n",
      "\t 폴드 세트: 1 시작\n",
      "\t 폴드 세트: 2 시작\n",
      "\t 폴드 세트: 3 시작\n",
      "\t 폴드 세트: 4 시작\n",
      "Lasso model 시작\n",
      "\t 폴드 세트: 0 시작\n",
      "\t 폴드 세트: 1 시작\n",
      "\t 폴드 세트: 2 시작\n",
      "\t 폴드 세트: 3 시작\n",
      "\t 폴드 세트: 4 시작\n",
      "XGBRegressor model 시작\n",
      "\t 폴드 세트: 0 시작\n",
      "\t 폴드 세트: 1 시작\n",
      "\t 폴드 세트: 2 시작\n",
      "\t 폴드 세트: 3 시작\n",
      "\t 폴드 세트: 4 시작\n",
      "LGBMRegressor model 시작\n",
      "\t 폴드 세트: 0 시작\n",
      "\t 폴드 세트: 1 시작\n",
      "\t 폴드 세트: 2 시작\n",
      "\t 폴드 세트: 3 시작\n",
      "\t 폴드 세트: 4 시작\n"
     ]
    }
   ],
   "source": [
    "#get_stacking_base_datasets() 는 넘파이 ndarray를 인자로 사용하므로 DataFrame을 넘파이로 변환.\n",
    "X_train_n = X_train.values\n",
    "X_test_n = X_test.values\n",
    "y_train_n = y_train.values\n",
    "\n",
    "#각 개별 기반(Base) 모델이 생성한 학습용/테스트용 데이터 반환\n",
    "ridge_train, ridge_test = get_stacking_base_datasets(ridge_reg, X_train_n, y_train_n, X_test_n, n_folds=5)\n",
    "lasso_train, lasso_test = get_stacking_base_datasets(lasso_reg, X_train_n, y_train_n, X_test_n, n_folds=5)\n",
    "xgb_train, xgb_test = get_stacking_base_datasets(xgb_reg, X_train_n, y_train_n, X_test_n, n_folds=5)\n",
    "lgbm_train, lgbm_test = get_stacking_base_datasets(lgbm_reg, X_train_n, y_train_n, X_test_n, n_folds=5)"
   ]
  },
  {
   "cell_type": "code",
   "execution_count": 24,
   "id": "4a035505-c97d-4d1b-9f99-c453fc4ac9ea",
   "metadata": {},
   "outputs": [
    {
     "name": "stdout",
     "output_type": "stream",
     "text": [
      "스태킹 회귀 모델의 최종 RMSE 값은: 0.09937953224164185\n"
     ]
    }
   ],
   "source": [
    "#개별 모델이 반환한 학습 및 테스트용  데이터 세트를 스태킹 형태로 결합\n",
    "Stack_final_X_train = np.concatenate((ridge_train,lasso_train, xgb_train, lgbm_train), axis=1)\n",
    "Stack_final_X_test = np.concatenate((ridge_test,lasso_test, xgb_test, lgbm_test), axis=1)\n",
    "\n",
    "#최종 메타 모델은 라쏘 모델을 적용\n",
    "meta_model_lasso = Lasso(alpha = 0.0005)\n",
    "\n",
    "#개별 모델 예측값을 기반으로 새롭게 만들어진 학습/테스트 데이터로 메타 모델 예측 및 RMSE 측정\n",
    "meta_model_lasso.fit(Stack_final_X_train, y_train)\n",
    "final = meta_model_lasso.predict(Stack_final_X_test)\n",
    "mse = mean_squared_error(y_test , final)\n",
    "rmse = np.sqrt(mse)\n",
    "print('스태킹 회귀 모델의 최종 RMSE 값은:', rmse)"
   ]
  }
 ],
 "metadata": {
  "kernelspec": {
   "display_name": "Python 3 (ipykernel)",
   "language": "python",
   "name": "python3"
  },
  "language_info": {
   "codemirror_mode": {
    "name": "ipython",
    "version": 3
   },
   "file_extension": ".py",
   "mimetype": "text/x-python",
   "name": "python",
   "nbconvert_exporter": "python",
   "pygments_lexer": "ipython3",
   "version": "3.11.7"
  }
 },
 "nbformat": 4,
 "nbformat_minor": 5
}
