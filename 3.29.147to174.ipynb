{
 "cells": [
  {
   "cell_type": "markdown",
   "id": "37098841-a288-4c17-9e13-39560a5d55bd",
   "metadata": {},
   "source": [
    "**평가**\n",
    "\n",
    "머신러닝 프로세스 : 데이터 가공/변환, 모델 학습/예측, 평가\n",
    "\n",
    "[분류 성능 평가 지표]\n",
    "1. 정확도 (Accuracy)\n",
    "2. 오차행렬 (Confusion-Matrix)\n",
    "3. 정밀도 (Precision)\n",
    "4. 재현 (Recall)\n",
    "5. F1 스코어\n",
    "6. ROC AUC\n",
    "\n",
    "[분류]\n",
    "1. 이진 분류\n",
    "2. 멀티 분류"
   ]
  },
  {
   "cell_type": "markdown",
   "id": "e4c76ce5-025e-40bf-b816-9765dd4d95a3",
   "metadata": {},
   "source": [
    "**정확도**\n",
    "\n",
    "$정확도(Accuracy) = (예측 결과가 동일한 데이터 건수 /전체 예측 데이터 건수)$\n",
    "\n",
    "$(TN + TP) / (TN + TP + FN + FP)$\n",
    "\n",
    "- 이진 분류의 경우 정확도 하나만으로 성능을 평가하면 왜곡 가능성 존재. (타이타닉 데이터에서 단순히 성별만을 기준으로 분류해도 정확도가 높게 나올 수 있음)\n",
    "- Base Estimator 상속받으면 Customized Estimator 생성 가능함\n",
    "- 불균형한 데이터 세트의 분포는 아무 처리도 하지 않고 무조건 특정 결과를 지정해도 정확도가 높게 나올 수 있음."
   ]
  },
  {
   "cell_type": "markdown",
   "id": "9e6e1cd3-b9db-4189-9369-c4d4a54cb003",
   "metadata": {},
   "source": [
    "**오차 행렬**\n",
    "\n",
    "- 정확도의 불완전한 성능 측정 기능을 개선\n",
    "- 실제 클래스 (행) / 예측 클래스 (열)\n",
    "\n",
    "Negative (0) | Positive(1)\n",
    "- | -\n",
    "TN | FP\n",
    "FN | TP\n",
    "\n",
    "1. TN : 예측 negative 0, 실제 값 negative 0\n",
    "2. FN : 예측 negative 1, 실제 값 positive 1\n",
    "3. FP : 예측 positive 1, 실제 값 negative 0\n",
    "4. TP : 예측 positive 1, 실제 값 positive 1\n",
    "\n",
    "- 사이킷런의 오차 행렬 : confusion_matrix() api 활용\n",
    "- 사기 행위, 암 검진 예측 모델 등에 활용."
   ]
  },
  {
   "cell_type": "markdown",
   "id": "03dc29d4-7720-4cbf-990e-9bf86523a6a2",
   "metadata": {},
   "source": [
    "**정밀도와 재현율**\n",
    "\n",
    "$ 정밀도(precision) = TP / (FP + TP) $\n",
    "\n",
    "$ 재현율(recall) = TP / (FN + TP) $\n",
    "\n",
    "- Positive 데이터 세트의 예측 성능에 좀더 초점을 맞춘 평가 지표\n",
    "- **정밀도** | '예측'을 1로 한 대상 중 실제 값 = 예측 값 = 1인 데이터의 비율 (a.k.a. 양성 예측도)\n",
    "\n",
    "  실제 음성 데이터를 양성으로 오판단할 때 손실이 큰 경우(EX.스팸메일 분류) \n",
    "- **재현율** | '실제 값'이 1인 대상 중 예측 값 = 실제 값 = 1인 데이터의 비율 (a.k.a. 민감도 or TPR)\n",
    "  \n",
    "  실제 양성 데이터를 음성으로 오판단할 때 손실이 큰 경우 (EX. 암 판단 모델, 사기 탐지)\n",
    "- 재현율은 FN을 낮추는 데, 정밀도는 FP를 낮추는 데 초점을 맞춤.\n",
    "- 상호 보완 관계\n",
    "- **precision_score()** , **recall_score()**\n",
    "  "
   ]
  },
  {
   "cell_type": "markdown",
   "id": "62b9f4a4-951b-45f2-b11a-7111d50bab25",
   "metadata": {},
   "source": [
    "**정밀도/재현율 트레이드오프**\n",
    "\n",
    "- 분류 시, 정밀도/재현율이 강조되어야 할 경우 분류의 결정 임곗값(Threshold)를 조정해 정밀도/재현율을 높일 수 있음. \n",
    "- 상호 보완 관계이므로 한 쪽을 강제로 높이면 다른 한 쪽은 떨어지는 트레이드 오프 관계\n",
    "  \n",
    "[사이킷런의 분류 알고리즘]\n",
    "1. 예측 데이터가 특정 레이블에 속하는지 계산하기 위해 개별 레이블별 결정 확률을 구한 후 예측 확률이 큰 레이블로 분류\n",
    "2. **predict_proba()** | 개별 데이터별 예측 확률 반환 메서드"
   ]
  },
  {
   "cell_type": "markdown",
   "id": "e83ddb8a-99a7-49cb-a085-7255ad1d227a",
   "metadata": {},
   "source": [
    "**precision_recall_curve()** \n",
    "임곗값 변화에 따른 평가 지표 값\n",
    "\n",
    "입력 파라미터 | y_true(실제 클래스값 배열), probas_pred(positive 칼럼의 예측 확률 배열)\n",
    "\n",
    "반환 값 | 정밀도, 재현율"
   ]
  },
  {
   "cell_type": "markdown",
   "id": "4a3a2b58-bea9-4c76-9dc5-7077001d1996",
   "metadata": {},
   "source": [
    "**정밀도와 재현율의 맹점**\n",
    "\n",
    "positive 예측의 임곗값을 변경함에 따라 정밀도와 재현율의 수치가 변경됨.\n",
    "단순히 하나의 성능 지표 수치를 높이기 위한 수단으로 사용해서는 안되고, 두 개의 수치를 상호 보완할 수 있는 수준에서 적용해야 함.\n",
    "1. 정밀도가 100%가 되는 방법 | 확실한 기준이 되는 경우만 Positive, 나머지는 Negative로 예측\n",
    "2. 재현율이 100%가 되는 방법 | 모든 환자를 Positive로 예측\n",
    "\n",
    "* 정밀도/재현율 둘 중 하나의 스코어만 좋으면 성능이 좋지 않은 분류임."
   ]
  },
  {
   "cell_type": "markdown",
   "id": "dedea8ab-9ba0-4eac-b957-a40c1a94fe8b",
   "metadata": {},
   "source": [
    "**F1 스코어**\n",
    "- 정밀도와 재현율을 결합한 지표.\n",
    "- 정밀도와 재현율이 어느 한 쪽으로 치우치지 않는 수치를 나타낼 때 높은 값을 가짐\n",
    "\n",
    "$F1 = 2/((1/recall)+(1/precision))$\n",
    "\n",
    "$F1 = 2*(precision*recall)/(precision+recall)$\n",
    "\n",
    "ex) A 예측 모델 : 정밀도 0.9, 재현율 0.1 - f1 스코어 0.18, B 예측 모델 : 정밀도 0.5, 재현율 0.5 - f1 스코어 : 0.5"
   ]
  },
  {
   "cell_type": "markdown",
   "id": "e595ea52-5687-4810-a7a9-bfc10617166c",
   "metadata": {},
   "source": [
    "**ROC 곡선, AUC**\n",
    "- ROC 곡선 : 수신자 판단 곡선, 머신러닝의 이진 분류 모델의 예측 성능을 판단\n",
    "- FPR(x축)가 변할 때 TPR(y축)이 어떻게 변하는지를 나타냄\n",
    "- 입력 파라미터 | y_true, y_score\n",
    "- 반환 값 | fpr, tpr, thresholds"
   ]
  },
  {
   "cell_type": "code",
   "execution_count": 3,
   "id": "90ba6b67-d155-4257-b53e-b3cd4e2998d3",
   "metadata": {},
   "outputs": [],
   "source": [
    "# 사이킷런의 base estimator 클래스 상속 후 아무런 학습을 하지 않고 성별에 따라 분류\n",
    "from sklearn.base import BaseEstimator \n",
    "class MyDummyClassifier(BaseEstimator) : \n",
    "    # fit() 메서드는 아무것도 학습하지 않음\n",
    "    def fit(self, X, y=None) :\n",
    "        pass\n",
    "    # predict() 메서드는 단순히 Sex 피처가 1이면 0, 그렇지 않으면 1로 예측\n",
    "    def predict(self, X) :\n",
    "        pred = np.zeros((X.shape[0], 1))\n",
    "        for i in range(X.shape[0]) :\n",
    "            if X['Sex'].iloc[i] == 1 :\n",
    "                pred[i] = 0\n",
    "            else :\n",
    "                pred[i] = 1\n",
    "                \n",
    "        return pred"
   ]
  },
  {
   "cell_type": "code",
   "execution_count": 4,
   "id": "42028fd6-b80b-46f4-8e01-c82a1bb37078",
   "metadata": {},
   "outputs": [],
   "source": [
    "## 생성된 MyDummyClassifier를 이용해 타이타닉 생존자 예측 수행\n",
    "\n",
    "from sklearn.model_selection import train_test_split\n",
    "from sklearn.metrics import accuracy_score\n",
    "from sklearn.preprocessing import LabelEncoder\n",
    "\n",
    "## Null 처리 함수\n",
    "def fillna(df):\n",
    "    df['Age'].fillna(df['Age'].mean(), inplace=True)\n",
    "    df['Cabin'].fillna('N', inplace=True)\n",
    "    df['Embarked'].fillna('N', inplace=True)\n",
    "    df['Fare'].fillna(0, inplace=True)\n",
    "    return df\n",
    "\n",
    "## 머신러닝에 불필요한 피처 제거\n",
    "def drop_features(df):\n",
    "    df.drop(['PassengerId', 'Name', 'Ticket'], axis=1, inplace=True)\n",
    "    return df\n",
    "\n",
    "## Label Encoding 수행\n",
    "def format_features(df):\n",
    "    df['Cabin'] = df['Cabin'].str[:1]\n",
    "    features = ['Cabin', 'Sex', 'Embarked']\n",
    "    for feature in features:\n",
    "        le = LabelEncoder()\n",
    "        le.fit(df[feature])\n",
    "        df[feature] = le.transform(df[feature])\n",
    "    return df\n",
    "\n",
    "## 앞에서 실행한 Data Preprocessing 함수 호출\n",
    "def transform_features(df):\n",
    "    df = fillna(df)\n",
    "    df = drop_features(df)\n",
    "    df = format_features(df)\n",
    "    return df"
   ]
  },
  {
   "cell_type": "code",
   "execution_count": 5,
   "id": "6aa4d12b-e4df-4bb6-b1fd-3938d5aaebde",
   "metadata": {},
   "outputs": [],
   "source": [
    "# 아무런 학습을 하지 않은 분류기로 타이타닉 생존자 예측\n",
    "import sklearn\n",
    "import numpy as np\n",
    "import pandas as pd\n",
    "from sklearn.model_selection import train_test_split\n",
    "from sklearn.metrics import accuracy_score\n",
    "\n",
    "# 원본 데이터를 재로딩, 데이터 가공, 학습 데이터 / 테스트 데이터 분할\n",
    "titanic_df = pd.read_csv('C:/Users/gyw78/Desktop/ewha/3-1/esaa/titanic_train.csv')\n",
    "y_titanic_df = titanic_df['Survived']\n",
    "X_titanic_df = titanic_df.drop('Survived', axis=1)\n",
    "X_titanic_df = transform_features(X_titanic_df)\n",
    "X_train, X_test, y_train, y_test = train_test_split(X_titanic_df, y_titanic_df,\n",
    "                                                    test_size = 0.2,random_state = 0)"
   ]
  },
  {
   "cell_type": "code",
   "execution_count": 6,
   "id": "cccdc615-59d4-4898-b527-246e4ceb30b8",
   "metadata": {},
   "outputs": [
    {
     "name": "stdout",
     "output_type": "stream",
     "text": [
      "Dummy Classifier의 정확도는 : 0.7877\n"
     ]
    }
   ],
   "source": [
    "myclf = MyDummyClassifier()\n",
    "myclf.fit(X_train, y_train)\n",
    "\n",
    "mypredictions = myclf.predict(X_test)\n",
    "print('Dummy Classifier의 정확도는 : {0:.4f}'.format(accuracy_score(y_test,\n",
    "                                                               mypredictions)))\n",
    "\n",
    "# 단순한 알고리즘을 가지고 예측하더라도 정확도가 78%로 높게 나올 수 있음. \n",
    "# 불균형 레이블 분포에서 ML 모델 성능 판단의 경우 적합한 평가 지표가 아님."
   ]
  },
  {
   "cell_type": "code",
   "execution_count": 7,
   "id": "e0a54582-6172-4367-943c-7cb24703c4fd",
   "metadata": {},
   "outputs": [],
   "source": [
    "# mnist 데이터 세트(숫자 이미지 픽셀 정보)를 불균형하게 만든 뒤 정확도 지표 적용\n",
    "# 0~9 멀티 레이블 분류 세트 -> 7만 true, 나머지 false로 변형 (바이너리 레이블 분류)\n",
    "from sklearn.datasets import load_digits\n",
    "from sklearn.model_selection import train_test_split\n",
    "from sklearn.base import BaseEstimator\n",
    "from sklearn.metrics import accuracy_score\n",
    "import numpy as np\n",
    "import pandas as pd\n",
    "\n",
    "class MyFakeClassifier(BaseEstimator) :\n",
    "    def fit(self, X, y) :\n",
    "        pass\n",
    "    # 입력값으로 들어오는 x 데이터 세트의 크기만큼 모두 0값으로 만들어서 반환\n",
    "    def predict(self, X) :\n",
    "        return np.zeros((len(X), 1), dtype=bool)\n",
    "# 사이킷런의 내장 데이터 세트인 load_digits()를 이용해 MNIST 데이터 로딩\n",
    "digits = load_digits()\n",
    "\n",
    "# digits 번호가 7번이면 True 이고 이를 astype(int)로 1로 변환, 7이 아니면 False이고 0으로 변환\n",
    "y = (digits.target ==7).astype(int)\n",
    "X_train, X_test, y_train, y_test = train_test_split(digits.data, y, random_state=11)"
   ]
  },
  {
   "cell_type": "code",
   "execution_count": 8,
   "id": "8ad26cd3-2b26-4dfb-88e6-29d0dd91c5a8",
   "metadata": {},
   "outputs": [
    {
     "name": "stdout",
     "output_type": "stream",
     "text": [
      "레이블 테스트 세트 크기 : (450,)\n",
      "테스트 세트 레이블 0과 1의 분포도\n",
      "0    405\n",
      "1     45\n",
      "Name: count, dtype: int64\n",
      "모든 예측을 0으로 하여도 정확도는 :0.900\n"
     ]
    }
   ],
   "source": [
    "# 불규칙한 레이블 데이터 분포도 확인.\n",
    "print('레이블 테스트 세트 크기 :',y_test.shape)\n",
    "print('테스트 세트 레이블 0과 1의 분포도')\n",
    "print(pd.Series(y_test).value_counts())\n",
    "\n",
    "# Dummy classifier로 학습/예측/정확도 평가\n",
    "fakeclf = MyFakeClassifier()\n",
    "fakeclf.fit(X_train, y_train)\n",
    "fakepred = fakeclf.predict(X_test)\n",
    "print('모든 예측을 0으로 하여도 정확도는 :{:.3f}'.format(accuracy_score(y_test,\n",
    "                                                          fakepred)))\n",
    "\n",
    "# 모든 것을 0으로만 예측해도 정확도 90% 로, 불균형 레이블 데이터 세트의 성능 지표로 사용 x"
   ]
  },
  {
   "cell_type": "code",
   "execution_count": 9,
   "id": "9cd5bb6a-3e47-486d-a5a6-7ed355c9a310",
   "metadata": {},
   "outputs": [
    {
     "data": {
      "text/plain": [
       "array([[405,   0],\n",
       "       [ 45,   0]], dtype=int64)"
      ]
     },
     "execution_count": 9,
     "metadata": {},
     "output_type": "execute_result"
    }
   ],
   "source": [
    "# 사이킷런의 오차 행렬 계산 API : confusion_matrix()\n",
    "from sklearn.metrics import confusion_matrix\n",
    "confusion_matrix(y_test, fakepred)\n",
    "# 전체 450개의 data중 TN 405개, FN 45개"
   ]
  },
  {
   "cell_type": "code",
   "execution_count": 10,
   "id": "433ebec4-6fa6-4305-9f51-26dfaa7738c3",
   "metadata": {},
   "outputs": [],
   "source": [
    "from sklearn.metrics import accuracy_score, precision_score, recall_score, confusion_matrix\n",
    "# get_clf_eval (평가를 한꺼번에 호출)\n",
    "def get_clf_eval(y_test, pred) :\n",
    "    confusion = confusion_matrix(y_test, pred)\n",
    "    accuracy = accuracy_score(y_test, pred)\n",
    "    precision = precision_score(y_test, pred)\n",
    "    recall = recall_score(y_test, pred)\n",
    "    print('오차 행렬')\n",
    "    print('정확도 : {0:.4f}, 정밀도 : {1:.4f}, 재현율 : {2:.4f}'.format(accuracy, precision, recall))"
   ]
  },
  {
   "cell_type": "code",
   "execution_count": 11,
   "id": "717f0adb-9425-40db-90ee-020d52d42b37",
   "metadata": {},
   "outputs": [],
   "source": [
    "# 로지스틱 회귀 기반 타이타닉 생존자 예측, 오차 행렬, 정확도, 정밀도, 재현율 평가"
   ]
  },
  {
   "cell_type": "code",
   "execution_count": 12,
   "id": "7eec05ae-7556-4252-98a1-d1859dfa3687",
   "metadata": {},
   "outputs": [
    {
     "name": "stdout",
     "output_type": "stream",
     "text": [
      "오차 행렬\n",
      "정확도 : 0.8492, 정밀도 : 0.7742, 재현율 : 0.7869\n"
     ]
    },
    {
     "name": "stderr",
     "output_type": "stream",
     "text": [
      "C:\\Users\\gyw78\\anaconda3\\Lib\\site-packages\\sklearn\\linear_model\\_logistic.py:458: ConvergenceWarning: lbfgs failed to converge (status=1):\n",
      "STOP: TOTAL NO. of ITERATIONS REACHED LIMIT.\n",
      "\n",
      "Increase the number of iterations (max_iter) or scale the data as shown in:\n",
      "    https://scikit-learn.org/stable/modules/preprocessing.html\n",
      "Please also refer to the documentation for alternative solver options:\n",
      "    https://scikit-learn.org/stable/modules/linear_model.html#logistic-regression\n",
      "  n_iter_i = _check_optimize_result(\n"
     ]
    }
   ],
   "source": [
    "import pandas as pd\n",
    "from sklearn.model_selection import train_test_split\n",
    "from sklearn.linear_model import LogisticRegression\n",
    "\n",
    "# 원본 데이터를 재로딩, 데이터 가공, 학습 데이터 / 테스트 데이터 분할\n",
    "titanic_df = pd.read_csv('C:/Users/gyw78/Desktop/ewha/3-1/esaa/titanic_train.csv')\n",
    "y_titanic_df = titanic_df['Survived']\n",
    "X_titanic_df = titanic_df.drop('Survived', axis=1)\n",
    "X_titanic_df = transform_features(X_titanic_df)\n",
    "\n",
    "X_train, X_test, y_train, y_test = train_test_split(X_titanic_df,\n",
    "                                                    y_titanic_df,\n",
    "                                                    test_size=0.20,\n",
    "                                                    random_state=11)\n",
    "lr_clf = LogisticRegression()\n",
    "\n",
    "lr_clf.fit(X_train, y_train)\n",
    "pred = lr_clf.predict(X_test)\n",
    "get_clf_eval(y_test, pred)\n",
    "\n",
    "# 정밀도에 비해 재현율이 낮게 출력)"
   ]
  },
  {
   "cell_type": "markdown",
   "id": "78dd42b8-d113-45c8-baaf-e1bfdb40b9d8",
   "metadata": {},
   "source": [
    "정밀도/재현율 트레이드오프"
   ]
  },
  {
   "cell_type": "code",
   "execution_count": 13,
   "id": "c8c22875-7502-4f26-8d8a-ae9fa07610ba",
   "metadata": {},
   "outputs": [
    {
     "name": "stdout",
     "output_type": "stream",
     "text": [
      "pred_proba 결과 shape : (179, 2)\n",
      "pred_proba array에서 앞 3개만 샘플로 추출\n",
      " [[0.46190343 0.53809657]\n",
      " [0.87861542 0.12138458]\n",
      " [0.87716338 0.12283662]]\n",
      "두 개의 class 중에서 더 큰 확률을 클래스 값으로 예측\n",
      " [[0.46190343 0.53809657 1.        ]\n",
      " [0.87861542 0.12138458 0.        ]\n",
      " [0.87716338 0.12283662 0.        ]]\n"
     ]
    }
   ],
   "source": [
    "pred_proba = lr_clf.predict_proba(X_test)\n",
    "pred = lr_clf.predict(X_test)\n",
    "print('pred_proba 결과 shape : {0}'.format(pred_proba.shape))\n",
    "print('pred_proba array에서 앞 3개만 샘플로 추출\\n', pred_proba[:3])\n",
    "\n",
    "# 예측 확률 array와 예측 결괏값 array를 병합 (concatenate)해 예측 확률과 결괏값을 한눈에\n",
    "pred_proba_result = np.concatenate([pred_proba, pred.reshape(-1,1)], axis=1)\n",
    "print('두 개의 class 중에서 더 큰 확률을 클래스 값으로 예측\\n', pred_proba_result[:3])"
   ]
  },
  {
   "cell_type": "code",
   "execution_count": 14,
   "id": "2d5d8ca2-9eb9-44d3-a58f-b47aee699dd8",
   "metadata": {},
   "outputs": [
    {
     "name": "stdout",
     "output_type": "stream",
     "text": [
      "[[0. 0. 1.]\n",
      " [1. 0. 0.]\n",
      " [0. 0. 1.]]\n"
     ]
    }
   ],
   "source": [
    "from sklearn.preprocessing import Binarizer\n",
    "\n",
    "X = [[1, -1, 2],\n",
    "     [2, 0, 0],\n",
    "     [0, 1.1, 1.2]]\n",
    "\n",
    "# x의 개별 원소들이 threshold 값보다 같거나 작으면 0, 크면 1 반환\n",
    "binarizer = Binarizer(threshold = 1.1)\n",
    "print(binarizer.fit_transform(X))"
   ]
  },
  {
   "cell_type": "code",
   "execution_count": 15,
   "id": "2f217ed8-b0ed-4ea5-bdac-ed1c9e563684",
   "metadata": {},
   "outputs": [
    {
     "name": "stdout",
     "output_type": "stream",
     "text": [
      "오차 행렬\n",
      "정확도 : 0.8492, 정밀도 : 0.7742, 재현율 : 0.7869\n"
     ]
    }
   ],
   "source": [
    "from sklearn.preprocessing import Binarizer\n",
    "# binarizer의 threshold 설정값, 분류 결정 임곗값임\n",
    "custom_threshold = 0.5\n",
    "\n",
    "# predict_proba() 반환값의 두 번째 칼럼, 즉 positive 클래스 칼럼 하나만 추출해 binarizer 적용\n",
    "pred_proba_1 = pred_proba[:,1].reshape(-1,1)\n",
    "\n",
    "binarizer = Binarizer(threshold = custom_threshold).fit(pred_proba_1)\n",
    "custom_predict = binarizer.transform(pred_proba_1)\n",
    "\n",
    "get_clf_eval(y_test, custom_predict)"
   ]
  },
  {
   "cell_type": "code",
   "execution_count": 16,
   "id": "ff12099d-f582-4434-a9c2-e5dfab7f429d",
   "metadata": {},
   "outputs": [
    {
     "name": "stdout",
     "output_type": "stream",
     "text": [
      "오차 행렬\n",
      "정확도 : 0.8324, 정밀도 : 0.7183, 재현율 : 0.8361\n"
     ]
    }
   ],
   "source": [
    "# binarizer의 threshold 설정값을 0.4로 설정, 즉 분류 결정 임곗값을 0.5 -> 0.4\n",
    "custom_threshold = 0.4\n",
    "pred_proba_1 = pred_proba[:,1].reshape(-1,1)\n",
    "binarizer = Binarizer(threshold = custom_threshold).fit(pred_proba_1)\n",
    "custom_predict =binarizer.transform(pred_proba_1)\n",
    "\n",
    "get_clf_eval(y_test ,custom_predict)"
   ]
  },
  {
   "cell_type": "code",
   "execution_count": 17,
   "id": "b0978811-ddbf-4659-b921-0222fd855ee6",
   "metadata": {},
   "outputs": [
    {
     "name": "stdout",
     "output_type": "stream",
     "text": [
      "임곗값 0.4\n",
      "오차 행렬\n",
      "정확도 : 0.8324, 정밀도 : 0.7183, 재현율 : 0.8361\n",
      "임곗값 0.45\n",
      "오차 행렬\n",
      "정확도 : 0.8492, 정밀도 : 0.7656, 재현율 : 0.8033\n",
      "임곗값 0.5\n",
      "오차 행렬\n",
      "정확도 : 0.8492, 정밀도 : 0.7742, 재현율 : 0.7869\n",
      "임곗값 0.55\n",
      "오차 행렬\n",
      "정확도 : 0.8659, 정밀도 : 0.8364, 재현율 : 0.7541\n",
      "임곗값 0.6\n",
      "오차 행렬\n",
      "정확도 : 0.8771, 정밀도 : 0.8824, 재현율 : 0.7377\n"
     ]
    }
   ],
   "source": [
    "# 테스트 수행할 모든 임곗값을 리스트 객체로 저장\n",
    "thresholds = [0.4, 0.45, 0.5, 0.55, 0.6]\n",
    "\n",
    "def get_eval_by_threshold(y_test, pred_proba_c1, thresholds) :\n",
    "    # thresholds list 객체 내 값을 차례로 반복하며 평가 수행\n",
    "    for custom_threshold in thresholds :\n",
    "        binarizer = Binarizer(threshold=custom_threshold).fit(pred_proba_c1)\n",
    "        custom_predict = binarizer.transform(pred_proba_c1)\n",
    "        print('임곗값', custom_threshold)\n",
    "        get_clf_eval(y_test, custom_predict)\n",
    "\n",
    "get_eval_by_threshold(y_test, pred_proba[:,1].reshape(-1,1), thresholds)\n",
    "\n",
    "# 재현율을 향상시키기 위해서 임곗값 0.45가 가장 정확해 보임"
   ]
  },
  {
   "cell_type": "code",
   "execution_count": 18,
   "id": "4cf27a7c-7650-44aa-af44-e7bdcdb87b18",
   "metadata": {},
   "outputs": [
    {
     "name": "stdout",
     "output_type": "stream",
     "text": [
      "반환된 분류 결정 임곗값 배열의 shape : (165,)\n",
      "샘플 임곗값별 정밀도 : [0.341 0.372 0.415 0.448 0.505 0.585 0.688 0.774 0.913 0.935 0.938]\n",
      "샘플 임곗값별 재현율 : [1.    1.    0.967 0.918 0.902 0.902 0.869 0.787 0.689 0.475 0.246]\n"
     ]
    }
   ],
   "source": [
    "from sklearn.metrics import precision_recall_curve\n",
    "\n",
    "# 레이블 값이 1일 때의 예측 확률을 추측\n",
    "pred_proba_class1 = lr_clf.predict_proba(X_test)[:,1]\n",
    "\n",
    "# 실제값 데이터 세트와 레이블 값이 1일 때의 예측 확률을 precision_recall_curve 인자로 입력\n",
    "precisions, recalls, thresholds = precision_recall_curve(y_test, pred_proba_class1)\n",
    "print('반환된 분류 결정 임곗값 배열의 shape :', thresholds.shape)\n",
    "\n",
    "# 반환된 임곗값 배열 로우가 147건이므로 샘플로 10건만 추출하되 임곗값을 15step으로 추출\n",
    "thr_index = np.arange(0, thresholds.shape[0], 15)\n",
    "print('샘플 임곗값별 정밀도 :', np.round(precisions[thr_index], 3))\n",
    "print('샘플 임곗값별 재현율 :', np.round(recalls[thr_index], 3))"
   ]
  },
  {
   "cell_type": "code",
   "execution_count": 19,
   "id": "97cc4b84-6e35-418a-91c4-5c44b7629aa1",
   "metadata": {},
   "outputs": [],
   "source": [
    "import matplotlib.pyplot as plt\n",
    "import matplotlib.ticker as ticker\n",
    "%matplotlib inline"
   ]
  },
  {
   "cell_type": "code",
   "execution_count": 24,
   "id": "6c54f1f4-71a6-4a39-a225-a288b416fab7",
   "metadata": {},
   "outputs": [
    {
     "data": {
      "image/png": "[encoded data removed]",
      "text/plain": [
       "<Figure size 800x600 with 1 Axes>"
      ]
     },
     "metadata": {},
     "output_type": "display_data"
    }
   ],
   "source": [
    "def precision_recall_curve_plot(y_test, pred_proba_c1) :\n",
    "    # threshold ndarray와 이 threshold에 따른 정밀도, 재현율, ndarray 추출\n",
    "    precisions, recalls, thresholds = precision_recall_curve(y_test, \n",
    "                                                             pred_proba_c1)\n",
    "    # x축을 threshold값으로, y축은 정밀도, 재현율 값으로 각각 plot 수행, 정밀도는 점선\n",
    "    plt.figure(figsize=(8,6))\n",
    "    threshold_boundary = thresholds.shape[0]\n",
    "    plt.plot(thresholds, precisions[0:threshold_boundary], linestyle='-',label='precision')\n",
    "    plt.plot(thresholds, recalls[0:threshold_boundary], label='recall')\n",
    "    \n",
    "    # threshold 값 x축의 scale을 0.1 단위로 변경\n",
    "    start, end = plt.xlim()\n",
    "    plt.xticks(np.round(np.arange(start, end, 0.1), 2))\n",
    "    \n",
    "    # x축, y축 label과 legend, 그리고 grid 설정\n",
    "    plt.xlabel('threshold value'); plt.ylabel('precision and recall value')\n",
    "    plt.legend(); plt.grid()\n",
    "    plt.show()\n",
    "\n",
    "precision_recall_curve_plot(y_test, lr_clf.predict_proba(X_test)[:, 1])\n",
    "\n",
    "# 임곗값을 계속 증가시킬수록 재현율 값이 낮아지고 정밀도 값이 높아지는 양상을 띰."
   ]
  },
  {
   "cell_type": "code",
   "execution_count": 26,
   "id": "de203b39-cadf-43c6-9304-6f20f3f6a81d",
   "metadata": {},
   "outputs": [
    {
     "name": "stdout",
     "output_type": "stream",
     "text": [
      "f1 스코어: 0.7805\n"
     ]
    }
   ],
   "source": [
    "# f1 스코어 : f1_score()\n",
    "from sklearn.metrics import f1_score\n",
    "f1 = f1_score(y_test, pred)\n",
    "print('f1 스코어: {0:.4f}'.format(f1))"
   ]
  },
  {
   "cell_type": "code",
   "execution_count": 27,
   "id": "e2346a7c-7a3d-4629-bb5f-fbdbdb2d563b",
   "metadata": {},
   "outputs": [
    {
     "name": "stdout",
     "output_type": "stream",
     "text": [
      "임곗값 0.4\n",
      "오차 행렬\n",
      "[[98 20]\n",
      " [10 51]]\n",
      "정확도 : 0.8324, 정밀도 : 0.7183, 재현율 : 0.8361, f1 : 0.7727\n",
      "임곗값 0.45\n",
      "오차 행렬\n",
      "[[103  15]\n",
      " [ 12  49]]\n",
      "정확도 : 0.8492, 정밀도 : 0.7656, 재현율 : 0.8033, f1 : 0.7840\n",
      "임곗값 0.5\n",
      "오차 행렬\n",
      "[[104  14]\n",
      " [ 13  48]]\n",
      "정확도 : 0.8492, 정밀도 : 0.7742, 재현율 : 0.7869, f1 : 0.7805\n",
      "임곗값 0.55\n",
      "오차 행렬\n",
      "[[109   9]\n",
      " [ 15  46]]\n",
      "정확도 : 0.8659, 정밀도 : 0.8364, 재현율 : 0.7541, f1 : 0.7931\n",
      "임곗값 0.6\n",
      "오차 행렬\n",
      "[[112   6]\n",
      " [ 16  45]]\n",
      "정확도 : 0.8771, 정밀도 : 0.8824, 재현율 : 0.7377, f1 : 0.8036\n"
     ]
    }
   ],
   "source": [
    "# 타이타닉 생존자 예측에서 임곗값을 변화시키며 평가 지표 구하기\n",
    "def get_clf_eval(y_test, pred) :\n",
    "    confusion = confusion_matrix(y_test, pred)\n",
    "    accuracy = accuracy_score(y_test, pred)\n",
    "    precision = precision_score(y_test, pred)\n",
    "    recall = recall_score(y_test, pred)\n",
    "    # f1 스코어 추가\n",
    "    f1 = f1_score(y_test, pred)\n",
    "    print('오차 행렬')\n",
    "    print(confusion)\n",
    "    # f1 스코어 print 추가\n",
    "    print('정확도 : {0:.4f}, 정밀도 : {1:.4f}, 재현율 : {2:.4f}, f1 : {3:.4f}'.format(accuracy, precision, recall, f1))\n",
    "\n",
    "thresholds = [0.4, 0.45, 0.5, 0.55, 0.6]\n",
    "pred_proba = lr_clf.predict_proba(X_test)\n",
    "get_eval_by_threshold(y_test, pred_proba[:, 1].reshape(-1, 1), thresholds)"
   ]
  },
  {
   "cell_type": "code",
   "execution_count": 34,
   "id": "002a9d6a-e98f-4668-9ed8-539b70e0fb24",
   "metadata": {},
   "outputs": [
    {
     "name": "stdout",
     "output_type": "stream",
     "text": [
      "샘플 추출을 위한 임곗값 배열의 index 10개: [ 1  6 11 16 21 26 31 36 41 46 51]\n",
      "샘플용 10개의 임곗값 : [ 1  6 11 16 21 26 31 36 41 46 51]\n",
      "샘플 임곗값별 FPR: [0.    0.017 0.034 0.076 0.127 0.169 0.203 0.466 0.585 0.686 0.797]\n",
      "샘플 임곗값별 TPR: [0.033 0.639 0.721 0.754 0.803 0.836 0.885 0.902 0.934 0.967 0.984]\n"
     ]
    }
   ],
   "source": [
    "from sklearn.metrics import roc_curve\n",
    "\n",
    "# 레이블 값이 1일 떄의 예측 확률을 추출\n",
    "pred_proba_class1 = lr_clf.predict_proba(X_test)[:,1]\n",
    "\n",
    "fprs, tprs, thresholds = roc_curve(y_test, pred_proba_class1)\n",
    "# 반환된 임곗값 배열 로우가 47건이므로 샘플로 10건만 추출하되 임곗값을 5 step으로 추출\n",
    "# thresholds[0]은 max(예측확률) + 1로 임의 설정됨, 이를 제외하기 위해 np.arange는 1부터\n",
    "thr_index = np.arange(1, thresholds.shape[0], 5)\n",
    "print('샘플 추출을 위한 임곗값 배열의 index 10개:', thr_index)\n",
    "print('샘플용 10개의 임곗값 :', np.round(thr_index))\n",
    "\n",
    "# 5 step 단위로 추출된 임곗값에 따른 FPR, TPR 값\n",
    "print('샘플 임곗값별 FPR:', np.round(fprs[thr_index],3))\n",
    "print('샘플 임곗값별 TPR:', np.round(tprs[thr_index],3))"
   ]
  },
  {
   "cell_type": "code",
   "execution_count": 36,
   "id": "4ce7de58-a988-4b14-9be4-a1860a596aa8",
   "metadata": {},
   "outputs": [
    {
     "data": {
      "image/png": "[encoded data removed]",
      "text/plain": [
       "<Figure size 640x480 with 1 Axes>"
      ]
     },
     "metadata": {},
     "output_type": "display_data"
    }
   ],
   "source": [
    "def roc_curve_plot(y_test, pred_proba_c1) :\n",
    "    # 임곗값에 따른 FPR, TPR 값을 반환받음\n",
    "    fprs, tprs, thresholds = roc_curve(y_test, pred_proba_c1)\n",
    "    # roc 곡선을 그래프 곡선으로 그림\n",
    "    plt.plot(fprs, tprs, label='ROC')\n",
    "    # 가운데 대각선 직선을 그림.\n",
    "    plt.plot([0,1], [0,1], 'k-', label='random')\n",
    "    # fpr x축의 scale을 0.1 단위로 변경, x,y축 명 설정 등\n",
    "    start, end=plt.xlim()\n",
    "    plt.xticks(np.round(np.arange(start, end, 0.1),2))\n",
    "    plt.xlim(0,1); plt.ylim(0,1)\n",
    "    plt.xlabel('FPR(1-Sensitivity)'); plt.ylabel('TPR(Recall)')\n",
    "    plt.legend()\n",
    "\n",
    "roc_curve_plot(y_test, pred_proba[:,1])"
   ]
  },
  {
   "cell_type": "code",
   "execution_count": 38,
   "id": "5aa999db-8b96-4be9-83d3-e208ea7703bd",
   "metadata": {},
   "outputs": [],
   "source": [
    "def get_clf_eval(y_test, pred=None, pred_proba=None) :\n",
    "    confusion = confusion_matrix(y_test, pred)\n",
    "    accuracy = accuracy_score(y_test, pred)\n",
    "    precision = precision_score(y_test, pred)\n",
    "    recall = recall_score(y_test, pred)\n",
    "    f1 = f1_score(y_test, pred)\n",
    "    # ROC-AUC 추가\n",
    "    roc_auc = roc_auc_score(y_test, pred_proba)\n",
    "    print('오차 행렬')\n",
    "    print(confusion)\n",
    "    # roc_auc 추가\n",
    "    print('정확도 : {0:.4f}, 정밀도 : {1:.4f}, 재현율 : {2:.4f}, \\\n",
    "    F1 : {3:.4f}, AUC:{4:.4f}'.format(accuracy, precision, recall, f1, roc_auc))"
   ]
  }
 ],
 "metadata": {
  "kernelspec": {
   "display_name": "Python 3 (ipykernel)",
   "language": "python",
   "name": "python3"
  },
  "language_info": {
   "codemirror_mode": {
    "name": "ipython",
    "version": 3
   },
   "file_extension": ".py",
   "mimetype": "text/x-python",
   "name": "python",
   "nbconvert_exporter": "python",
   "pygments_lexer": "ipython3",
   "version": "3.11.7"
  }
 },
 "nbformat": 4,
 "nbformat_minor": 5
}
