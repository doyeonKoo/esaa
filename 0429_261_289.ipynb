{
 "cells": [
  {
   "cell_type": "markdown",
   "id": "957e019c-ec33-438a-95b1-cc59087ce2fa",
   "metadata": {},
   "source": [
    "### 분류 실습 - 캐글 신용카드 사기 검출\n",
    "- 0이 사기가 아닌 정상적인 데이터, 1은 신용카드 사기 트랜잭션\n",
    "- 사기와 같은 이상 현상을 가진 데이터는 극도로 불균형한 분포를 가지기도 함"
   ]
  },
  {
   "cell_type": "markdown",
   "id": "615e1d71-2079-4948-aec5-fceba8910513",
   "metadata": {},
   "source": [
    "#### 언더 샘플링과 오버 샘플링의 이해\n",
    "- 지도학습에서 극도로 불균형한 데이터 분포를 가지면 정상적인 데이터로 치우치게 학습해 이상 데이터의 검출이 어려울 수 있음\n",
    "- 해결 방법 : 언더 샘플링, 오버 샘플링으로 적절한 학습 데이터를 확보\n",
    "- **언더 샘플링** : 많은 데이터 세트를 적은 데이터 세트 수준으로 감소 (정상 10000개, 비정상 100개 -> 정상 100개), 정상 데이터의 숫자가 작아져 제대로 된 학습이 어려울 수 있음.\n",
    "- **오버 샘플링** : 이상 데이터처럼 적은 데이터 세트를 증식하여 충분한 데이터를 확보하는 방법. SMOTE, K 최근접 이웃 "
   ]
  },
  {
   "cell_type": "markdown",
   "id": "5b0731f7-af19-417f-abe5-622aef09a53e",
   "metadata": {},
   "source": [
    "#### 데이터 일차 가공 및 모델 학습/예측/평가\n",
    "- 로지스틱 회귀와 LightGBM 기반 모델이 데이터 가공을 수행하며 예측 성능이 어떻게 변하는지 살펴보기\n",
    "- 불균형한 데이터 분포를 가지므로 boost_from_average = False로 설정 (True로 설정 시 roc_auc 성능 저하)\n",
    "- 재현율과 ROC_AUC가 로지스틱 회귀보다 높게 나타남"
   ]
  },
  {
   "cell_type": "markdown",
   "id": "3340573d-a72c-4c19-b1ae-390e3c2b3b0b",
   "metadata": {},
   "source": [
    "#### 데이터 분포도 변환 후 모델 학습/예측/평가\n",
    "- 왜곡된 분포도를 가지는 데이터를 재가공한 후 모델 테스트\n",
    "- standardscaler 변환 : 두 모델 모두 크게 개선되지는 않음.\n",
    "- 로그 변환법(원래 값을 log 값으로 변환해 원래 큰 값을 작은 값으로 변환해 왜곡을 개선) : 정규분포 변환보다 약간 성능이 개선됨"
   ]
  },
  {
   "cell_type": "markdown",
   "id": "38e194ff-bbb3-4b2e-8508-79c591da88ac",
   "metadata": {},
   "source": [
    "#### 이상치 데이터 제거 후 모델 학습/예측/평가\n",
    "- 이상치 : 전체 데이터의 패턴에서 벗어난 이상 값을 가진 데이터\n",
    "- IQR 방식을 주로 사용, box plot으로 시각화\n",
    "- 이상치 데이터를 제거한 뒤 로지스틱 회귀와 lightgbm 모두 예측 성능이 크게 증가"
   ]
  },
  {
   "cell_type": "markdown",
   "id": "d75c57da-e7f6-49c4-b9c0-f753d13f47dc",
   "metadata": {},
   "source": [
    "#### SMOTE 오버 샘플링 적용 후 모델 학습/예측/평가\n",
    "- 로지스틱 회귀 모델의 경우 smote로 오버 샘플링된 데이터로 학습할 경우 재현율이 크게 증가햐지만 정밀도는 급격히 저하됨. 저조한 정밀도는 현실 업무에 적용 불가능\n",
    "- 로지스틱 회귀모형에서는 올바른 예측 모델 생성 x"
   ]
  },
  {
   "cell_type": "markdown",
   "id": "772f8efe-4cfd-4b4a-a1fc-532e0a36139f",
   "metadata": {},
   "source": [
    "### 스태킹 앙상블\n",
    "- 개별적인 여러 알고리즘을 결합해 예측 결과를 도출한다는 점에서 배깅, 부스팅과 공통되지만 개별 알고리즘으로 예측한 데이터를 기반으로 다시 예측을 수행한다는 점에서 있음 (메타 모델)\n",
    "1. 개별적인 기반 모델\n",
    "2. 개별 기반 모델의 예측 데이터를 학습 데이터로 만들어서 학습하는 최종 메타 모델\n",
    "* 핵심은 여러 개별 모델의 예측 데이터를 각각 스태킹 형태로 결합해 최종 메타 모델의 학습용 피처 데이터 세트와 테스트용 피처 데이터 세트를 만드는 것임.\n",
    "* 캐글처럼 성능 수치를 조금이라도 높여야 할 경우 자주 사용됨"
   ]
  },
  {
   "cell_type": "code",
   "execution_count": 4,
   "id": "6ae8ae78-61a9-4357-bf06-e9754b6ffe0a",
   "metadata": {},
   "outputs": [
    {
     "data": {
      "text/html": [
       "<div>\n",
       "<style scoped>\n",
       "    .dataframe tbody tr th:only-of-type {\n",
       "        vertical-align: middle;\n",
       "    }\n",
       "\n",
       "    .dataframe tbody tr th {\n",
       "        vertical-align: top;\n",
       "    }\n",
       "\n",
       "    .dataframe thead th {\n",
       "        text-align: right;\n",
       "    }\n",
       "</style>\n",
       "<table border=\"1\" class=\"dataframe\">\n",
       "  <thead>\n",
       "    <tr style=\"text-align: right;\">\n",
       "      <th></th>\n",
       "      <th>Time</th>\n",
       "      <th>V1</th>\n",
       "      <th>V2</th>\n",
       "      <th>V3</th>\n",
       "      <th>V4</th>\n",
       "      <th>V5</th>\n",
       "      <th>V6</th>\n",
       "      <th>V7</th>\n",
       "      <th>V8</th>\n",
       "      <th>V9</th>\n",
       "      <th>...</th>\n",
       "      <th>V21</th>\n",
       "      <th>V22</th>\n",
       "      <th>V23</th>\n",
       "      <th>V24</th>\n",
       "      <th>V25</th>\n",
       "      <th>V26</th>\n",
       "      <th>V27</th>\n",
       "      <th>V28</th>\n",
       "      <th>Amount</th>\n",
       "      <th>Class</th>\n",
       "    </tr>\n",
       "  </thead>\n",
       "  <tbody>\n",
       "    <tr>\n",
       "      <th>0</th>\n",
       "      <td>0.0</td>\n",
       "      <td>-1.359807</td>\n",
       "      <td>-0.072781</td>\n",
       "      <td>2.536347</td>\n",
       "      <td>1.378155</td>\n",
       "      <td>-0.338321</td>\n",
       "      <td>0.462388</td>\n",
       "      <td>0.239599</td>\n",
       "      <td>0.098698</td>\n",
       "      <td>0.363787</td>\n",
       "      <td>...</td>\n",
       "      <td>-0.018307</td>\n",
       "      <td>0.277838</td>\n",
       "      <td>-0.110474</td>\n",
       "      <td>0.066928</td>\n",
       "      <td>0.128539</td>\n",
       "      <td>-0.189115</td>\n",
       "      <td>0.133558</td>\n",
       "      <td>-0.021053</td>\n",
       "      <td>149.62</td>\n",
       "      <td>0</td>\n",
       "    </tr>\n",
       "    <tr>\n",
       "      <th>1</th>\n",
       "      <td>0.0</td>\n",
       "      <td>1.191857</td>\n",
       "      <td>0.266151</td>\n",
       "      <td>0.166480</td>\n",
       "      <td>0.448154</td>\n",
       "      <td>0.060018</td>\n",
       "      <td>-0.082361</td>\n",
       "      <td>-0.078803</td>\n",
       "      <td>0.085102</td>\n",
       "      <td>-0.255425</td>\n",
       "      <td>...</td>\n",
       "      <td>-0.225775</td>\n",
       "      <td>-0.638672</td>\n",
       "      <td>0.101288</td>\n",
       "      <td>-0.339846</td>\n",
       "      <td>0.167170</td>\n",
       "      <td>0.125895</td>\n",
       "      <td>-0.008983</td>\n",
       "      <td>0.014724</td>\n",
       "      <td>2.69</td>\n",
       "      <td>0</td>\n",
       "    </tr>\n",
       "    <tr>\n",
       "      <th>2</th>\n",
       "      <td>1.0</td>\n",
       "      <td>-1.358354</td>\n",
       "      <td>-1.340163</td>\n",
       "      <td>1.773209</td>\n",
       "      <td>0.379780</td>\n",
       "      <td>-0.503198</td>\n",
       "      <td>1.800499</td>\n",
       "      <td>0.791461</td>\n",
       "      <td>0.247676</td>\n",
       "      <td>-1.514654</td>\n",
       "      <td>...</td>\n",
       "      <td>0.247998</td>\n",
       "      <td>0.771679</td>\n",
       "      <td>0.909412</td>\n",
       "      <td>-0.689281</td>\n",
       "      <td>-0.327642</td>\n",
       "      <td>-0.139097</td>\n",
       "      <td>-0.055353</td>\n",
       "      <td>-0.059752</td>\n",
       "      <td>378.66</td>\n",
       "      <td>0</td>\n",
       "    </tr>\n",
       "  </tbody>\n",
       "</table>\n",
       "<p>3 rows × 31 columns</p>\n",
       "</div>"
      ],
      "text/plain": [
       "   Time        V1        V2        V3        V4        V5        V6        V7  \\\n",
       "0   0.0 -1.359807 -0.072781  2.536347  1.378155 -0.338321  0.462388  0.239599   \n",
       "1   0.0  1.191857  0.266151  0.166480  0.448154  0.060018 -0.082361 -0.078803   \n",
       "2   1.0 -1.358354 -1.340163  1.773209  0.379780 -0.503198  1.800499  0.791461   \n",
       "\n",
       "         V8        V9  ...       V21       V22       V23       V24       V25  \\\n",
       "0  0.098698  0.363787  ... -0.018307  0.277838 -0.110474  0.066928  0.128539   \n",
       "1  0.085102 -0.255425  ... -0.225775 -0.638672  0.101288 -0.339846  0.167170   \n",
       "2  0.247676 -1.514654  ...  0.247998  0.771679  0.909412 -0.689281 -0.327642   \n",
       "\n",
       "        V26       V27       V28  Amount  Class  \n",
       "0 -0.189115  0.133558 -0.021053  149.62      0  \n",
       "1  0.125895 -0.008983  0.014724    2.69      0  \n",
       "2 -0.139097 -0.055353 -0.059752  378.66      0  \n",
       "\n",
       "[3 rows x 31 columns]"
      ]
     },
     "execution_count": 4,
     "metadata": {},
     "output_type": "execute_result"
    }
   ],
   "source": [
    "import pandas as pd\n",
    "import numpy as np\n",
    "import matplotlib.pyplot as plt\n",
    "import warnings\n",
    "warnings.filterwarnings('ignore')\n",
    "%matplotlib inline\n",
    "card_df = pd.read_csv('creditcard.csv')\n",
    "card_df.head(3)"
   ]
  },
  {
   "cell_type": "code",
   "execution_count": 7,
   "id": "6d293998-006e-4275-b121-b90de80e0830",
   "metadata": {},
   "outputs": [
    {
     "name": "stdout",
     "output_type": "stream",
     "text": [
      "<class 'pandas.core.frame.DataFrame'>\n",
      "RangeIndex: 284807 entries, 0 to 284806\n",
      "Data columns (total 31 columns):\n",
      " #   Column  Non-Null Count   Dtype  \n",
      "---  ------  --------------   -----  \n",
      " 0   Time    284807 non-null  float64\n",
      " 1   V1      284807 non-null  float64\n",
      " 2   V2      284807 non-null  float64\n",
      " 3   V3      284807 non-null  float64\n",
      " 4   V4      284807 non-null  float64\n",
      " 5   V5      284807 non-null  float64\n",
      " 6   V6      284807 non-null  float64\n",
      " 7   V7      284807 non-null  float64\n",
      " 8   V8      284807 non-null  float64\n",
      " 9   V9      284807 non-null  float64\n",
      " 10  V10     284807 non-null  float64\n",
      " 11  V11     284807 non-null  float64\n",
      " 12  V12     284807 non-null  float64\n",
      " 13  V13     284807 non-null  float64\n",
      " 14  V14     284807 non-null  float64\n",
      " 15  V15     284807 non-null  float64\n",
      " 16  V16     284807 non-null  float64\n",
      " 17  V17     284807 non-null  float64\n",
      " 18  V18     284807 non-null  float64\n",
      " 19  V19     284807 non-null  float64\n",
      " 20  V20     284807 non-null  float64\n",
      " 21  V21     284807 non-null  float64\n",
      " 22  V22     284807 non-null  float64\n",
      " 23  V23     284807 non-null  float64\n",
      " 24  V24     284807 non-null  float64\n",
      " 25  V25     284807 non-null  float64\n",
      " 26  V26     284807 non-null  float64\n",
      " 27  V27     284807 non-null  float64\n",
      " 28  V28     284807 non-null  float64\n",
      " 29  Amount  284807 non-null  float64\n",
      " 30  Class   284807 non-null  int64  \n",
      "dtypes: float64(30), int64(1)\n",
      "memory usage: 67.4 MB\n"
     ]
    }
   ],
   "source": [
    "card_df.info()\n",
    "# class 레이블만 int, 나머지 float"
   ]
  },
  {
   "cell_type": "code",
   "execution_count": 8,
   "id": "bac05cb2-a7db-4f2a-b8c7-5c33810d24c5",
   "metadata": {},
   "outputs": [],
   "source": [
    "from sklearn.model_selection import train_test_split\n",
    "# 인자로 입력받은 DF를 복사한 뒤 Time만 삭제하고 복사된 df 반환\n",
    "def get_preprocessed_df(df=None) :\n",
    "    df_copy = df.copy()\n",
    "    df_copy.drop('Time', axis=1, inplace = True)\n",
    "    return df_copy"
   ]
  },
  {
   "cell_type": "code",
   "execution_count": 10,
   "id": "265ad060-6fd8-4f33-a97f-57ea492a676c",
   "metadata": {},
   "outputs": [],
   "source": [
    "# 내부에서 train_test_split()을 호출, 테스트를 전체의 30%인 Stratified 방식으로 추출해 분포도를 동일하게 만듦\n",
    "# 사전 데이터 가공 후 학습 / 테스트 데이터 세트 반환\n",
    "def get_train_test_dataset(df=None) :\n",
    "    # 인자로 입력된 df의 사전 데이터 가공이 완료된 복사 df 반환\n",
    "    df_copy = get_preprocessed_df(df)\n",
    "    # DataFrame의 맨 마지막 칼럼이 레이블, 나머지는 피처\n",
    "    X_features = df_copy.iloc[:, :-1]\n",
    "    y_target = df_copy.iloc[:,-1]\n",
    "    # train_test_split()으로 학습과 테스트 데이터 분할, stratify=y_target으로 Stratified 기반 분할\n",
    "    X_train,X_test,y_train,y_test = train_test_split(\n",
    "        X_features,y_target,test_size=0.3,random_state=0, \n",
    "        stratify = y_target\n",
    "    )\n",
    "    # 학습과 테스트 데이터 세트 반환\n",
    "    return X_train, X_test, y_train, y_test\n",
    "X_train, X_test, y_train, y_test = get_train_test_dataset(card_df)"
   ]
  },
  {
   "cell_type": "code",
   "execution_count": 19,
   "id": "02893ee2-f5c6-43f2-8d3d-3000cc90a461",
   "metadata": {},
   "outputs": [
    {
     "name": "stdout",
     "output_type": "stream",
     "text": [
      "학습 데이터 레이블 값 비율\n",
      "Class\n",
      "0    99.827451\n",
      "1     0.172549\n",
      "Name: count, dtype: float64\n",
      "테스트 데이터 레이블 값 비율\n",
      "Class\n",
      "0    99.826785\n",
      "1     0.173215\n",
      "Name: count, dtype: float64\n"
     ]
    }
   ],
   "source": [
    "print('학습 데이터 레이블 값 비율')\n",
    "print(y_train.value_counts()/y_train.shape[0]*100)\n",
    "print('테스트 데이터 레이블 값 비율')\n",
    "print(y_test.value_counts()/y_test.shape[0]*100)\n",
    "\n",
    "# 약 17%로 잘 분할됨"
   ]
  },
  {
   "cell_type": "code",
   "execution_count": 23,
   "id": "a1e77b1b-5327-4098-ab03-f85e406285d5",
   "metadata": {},
   "outputs": [
    {
     "name": "stdout",
     "output_type": "stream",
     "text": [
      "오차 행렬\n",
      "[[85283    12]\n",
      " [   58    90]]\n",
      "\n",
      "정확도: 0.9992, 정밀도: 0.8824, 재현율: 0.6081, F1: 0.7200, ROC-AUC: 0.9609\n"
     ]
    }
   ],
   "source": [
    "from sklearn.linear_model import LogisticRegression\n",
    "from sklearn.metrics import confusion_matrix\n",
    "from sklearn.metrics import accuracy_score\n",
    "from sklearn.metrics import precision_score\n",
    "from sklearn.metrics import recall_score\n",
    "from sklearn.metrics import f1_score\n",
    "from sklearn.metrics import roc_auc_score\n",
    "lr_clf = LogisticRegression()\n",
    "lr_clf.fit(X_train, y_train)\n",
    "lr_pred = lr_clf.predict(X_test)\n",
    "lr_pred_proba = lr_clf.predict_proba(X_test)[:,1]\n",
    "def get_clf_eval(y_test, pred, pred_proba):\n",
    "    # 오차 행렬, 정확도, 정밀도, 재현율, F1 스코어, ROC-AUC를 출력하는 함수\n",
    "# 오차 행렬을 계산합니다. \n",
    "# 오차 행렬은 실제 레이블과 예측 레이블을 비교하여 True Positives, False Positives,\n",
    "# True Negatives, False Negatives의 수를 표시합니다.\n",
    "    confusion = confusion_matrix(y_test, pred)\n",
    "\n",
    "# 정확도를 계산합니다.\n",
    "# 정확도는 전체 데이터 중에서 올바르게 예측된 데이터의 비율입니다.\n",
    "    accuracy = accuracy_score(y_test, pred)\n",
    "\n",
    "# 정밀도를 계산합니다.\n",
    "# 정밀도는 양성으로 예측된 데이터 중 실제로 양성인 데이터의 비율입니다.\n",
    "    precision = precision_score(y_test, pred)\n",
    "\n",
    "# 재현율을 계산합니다.\n",
    "# 재현율(민감도)는 실제 양성 데이터 중 모델이 양성으로 예측한 데이터의 비율입니다.\n",
    "    recall = recall_score(y_test, pred)\n",
    "\n",
    "# F1 스코어를 계산합니다.\n",
    "# F1 스코어는 정밀도와 재현율의 조화 평균이며, 두 지표의 균형을 나타냅니다.\n",
    "    f1 = f1_score(y_test, pred)\n",
    "\n",
    "# ROC-AUC 스코어를 계산합니다.\n",
    "# ROC-AUC는 모델의 수신자 조작 특성 곡선(ROC) 아래의 면적을 측정하며,\n",
    "# 1에 가까울수록 좋은 성능을 나타냅니다.\n",
    "    roc_auc = roc_auc_score(y_test, pred_proba)\n",
    "\n",
    "# 계산된 성능 지표들을 출력합니다.\n",
    "    print('오차 행렬')\n",
    "    print(confusion)\n",
    "    print('\\n정확도: {:.4f}, 정밀도: {:.4f}, 재현율: {:.4f}, F1: {:.4f}, ROC-AUC: {:.4f}'.format(accuracy, precision, recall, f1, roc_auc))\n",
    "\n",
    "# 3장에서 사용한 get_clf_eval() 함수를 이용해 평가 수행\n",
    "get_clf_eval(y_test, lr_pred, lr_pred_proba)"
   ]
  },
  {
   "cell_type": "code",
   "execution_count": 30,
   "id": "549ff8b3-a989-4455-841c-d990980474e6",
   "metadata": {},
   "outputs": [],
   "source": [
    "def get_model_train_eval(model, ftr_train = None, ftr_test = None, \n",
    "                         tgt_train = None, tgt_test = None) :\n",
    "    model.fit(ftr_train, tgt_train)\n",
    "    pred = model.predict(ftr_test)\n",
    "    pred_proba = model.predict_proba(ftr_test)[:, 1]\n",
    "    get_clf_eval(tgt_test, pred, pred_proba)"
   ]
  },
  {
   "cell_type": "code",
   "execution_count": 31,
   "id": "9be9c9df-0287-404d-8039-697a58a987c6",
   "metadata": {},
   "outputs": [
    {
     "name": "stdout",
     "output_type": "stream",
     "text": [
      "오차 행렬\n",
      "[[85289     6]\n",
      " [   36   112]]\n",
      "\n",
      "정확도: 0.9995, 정밀도: 0.9492, 재현율: 0.7568, F1: 0.8421, ROC-AUC: 0.9797\n"
     ]
    }
   ],
   "source": [
    "from lightgbm import LGBMClassifier\n",
    "\n",
    "lgbm_clf = LGBMClassifier(n_estimators = 1000, num_leaves = 64, \n",
    "                         n_jobs = -1, boost_from_average = False)\n",
    "get_model_train_eval(lgbm_clf, ftr_train=X_train, ftr_test = X_test, \n",
    "                    tgt_train=y_train,tgt_test=y_test)"
   ]
  },
  {
   "cell_type": "code",
   "execution_count": null,
   "id": "bb6aa9d5-54d0-4027-b3ff-ae63c7b0b990",
   "metadata": {},
   "outputs": [],
   "source": [
    "# 재현율과 ROC_AUC가 로지스틱 회귀보다 높게 나타남"
   ]
  },
  {
   "cell_type": "code",
   "execution_count": 34,
   "id": "31fcd7b1-8248-4520-bae0-0b2967c4cd68",
   "metadata": {},
   "outputs": [
    {
     "data": {
      "text/plain": [
       "<Axes: xlabel='Amount', ylabel='Density'>"
      ]
     },
     "execution_count": 34,
     "metadata": {},
     "output_type": "execute_result"
    },
    {
     "data": {
      "image/png": "[encoded data removed]",
      "text/plain": [
       "<Figure size 800x400 with 1 Axes>"
      ]
     },
     "metadata": {},
     "output_type": "display_data"
    }
   ],
   "source": [
    "# 데이터 분포도 변환 후 모델 학습.예측.평가\n",
    "import seaborn as sns\n",
    "plt.figure(figsize = (8,4))\n",
    "plt.xticks(range(0,30000,1000),rotation=60)\n",
    "sns.distplot(card_df['Amount'])\n",
    "\n",
    "# amount(카드 사용금액) 1000불 이하인 데이터가 대부분이고 꼬리가 긴 형태의 곡선"
   ]
  },
  {
   "cell_type": "code",
   "execution_count": 36,
   "id": "094dd77d-af58-4263-a23e-b4eb709d967d",
   "metadata": {},
   "outputs": [],
   "source": [
    "# amount 피처를 정규분포로 변환\n",
    "from sklearn.preprocessing import StandardScaler\n",
    "# 정규분포 형태로 amount 피처값 변환\n",
    "def get_preprocessed_df(df=None) :\n",
    "    df_copy = df.copy()\n",
    "    scaler = StandardScaler()\n",
    "    amount_n = scaler.fit_transform(df_copy['Amount'].values.reshape(-1,1))\n",
    "    # 변환된 amount를 amount_scaled로 피처명 변경 후 DataFrame 멘앞 칼럼으로 입력\n",
    "    df_copy.insert(0, 'Amount_Scaled', amount_n)\n",
    "    # 기존 Time, amount 삭제\n",
    "    df_copy.drop(['Time', 'Amount'], axis = 1, inplace = True)\n",
    "    return df_copy"
   ]
  },
  {
   "cell_type": "code",
   "execution_count": 38,
   "id": "1fec4c2c-35c5-4187-8b39-b1197ef2321a",
   "metadata": {},
   "outputs": [
    {
     "name": "stdout",
     "output_type": "stream",
     "text": [
      "### 로지스틱 회귀 예측 성능 ###\n",
      "오차 행렬\n",
      "[[85281    14]\n",
      " [   58    90]]\n",
      "\n",
      "정확도: 0.9992, 정밀도: 0.8654, 재현율: 0.6081, F1: 0.7143, ROC-AUC: 0.9702\n",
      "### lightgbm 예측 성능 ###\n",
      "오차 행렬\n",
      "[[85135   160]\n",
      " [  128    20]]\n",
      "\n",
      "정확도: 0.9966, 정밀도: 0.1111, 재현율: 0.1351, F1: 0.1220, ROC-AUC: 0.5697\n"
     ]
    }
   ],
   "source": [
    "# amount를 정규분포 형태로 변환 후 로지스틱 회귀 및 LightGBM 수행\n",
    "X_train,X_test,y_train,y_test = get_train_test_dataset(card_df)\n",
    "\n",
    "print('### 로지스틱 회귀 예측 성능 ###')\n",
    "lr_clf = LogisticRegression()\n",
    "get_model_train_eval(lr_clf, ftr_train = X_train, ftr_test = X_test,\n",
    "                tgt_train=y_train, tgt_test = y_test)\n",
    "print('### lightgbm 예측 성능 ###')\n",
    "lgbm_clf = LGBMClassifier(n_estimators = 1000, num_leaves = 64, \n",
    "                         n_jobs = -1)\n",
    "get_model_train_eval(lgbm_clf, ftr_train=X_train, ftr_test=X_test, \n",
    "                    tgt_train=y_train, tgt_test = y_test)"
   ]
  },
  {
   "cell_type": "code",
   "execution_count": 39,
   "id": "e3e90f89-70aa-467a-886d-3bace3915461",
   "metadata": {},
   "outputs": [],
   "source": [
    "# log 변환\n",
    "def get_preprocessed_df(df=None) :\n",
    "    df_copy = df.copy()\n",
    "    # 넘파이의 log1p()를 이용해 Amount를 로그변환\n",
    "    amount_n = np.log1p(df_copy['Amount'])\n",
    "    df_copy.insert(0, 'Amount_scaled', amount_n)\n",
    "    df_copy.drop(['Time', 'Amount'], axis = 1, inplace=True)\n",
    "    return df_copy"
   ]
  },
  {
   "cell_type": "code",
   "execution_count": 40,
   "id": "d994d483-dd19-4ef4-b566-3d4d71e79f0b",
   "metadata": {},
   "outputs": [
    {
     "name": "stdout",
     "output_type": "stream",
     "text": [
      "#### 로지스틱 회귀 성능 예측 ####\n",
      "오차 행렬\n",
      "[[85283    12]\n",
      " [   59    89]]\n",
      "\n",
      "정확도: 0.9992, 정밀도: 0.8812, 재현율: 0.6014, F1: 0.7149, ROC-AUC: 0.9727\n",
      "#### LightGBM 예측 성능 ###\n",
      "오차 행렬\n",
      "[[85122   173]\n",
      " [  144     4]]\n",
      "\n",
      "정확도: 0.9963, 정밀도: 0.0226, 재현율: 0.0270, F1: 0.0246, ROC-AUC: 0.5123\n"
     ]
    }
   ],
   "source": [
    "X_train, X_test, y_train, y_test = get_train_test_dataset(card_df)\n",
    "print('#### 로지스틱 회귀 성능 예측 ####')\n",
    "get_model_train_eval(lr_clf, ftr_train=X_train, ftr_test=X_test,\n",
    "                    tgt_train=y_train, tgt_test=y_test)\n",
    "print('#### LightGBM 예측 성능 ###')\n",
    "get_model_train_eval(lgbm_clf, ftr_train =X_train, ftr_test = X_test,\n",
    "                    tgt_train=y_train, tgt_test=y_test)"
   ]
  },
  {
   "cell_type": "code",
   "execution_count": 42,
   "id": "c4b6056e-9d65-42dd-b22f-6b371d267801",
   "metadata": {},
   "outputs": [
    {
     "data": {
      "text/plain": [
       "<Axes: >"
      ]
     },
     "execution_count": 42,
     "metadata": {},
     "output_type": "execute_result"
    },
    {
     "data": {
      "image/png": "[encoded data removed]",
      "text/plain": [
       "<Figure size 900x900 with 2 Axes>"
      ]
     },
     "metadata": {},
     "output_type": "display_data"
    }
   ],
   "source": [
    "# 이상치 데이터 제거 후 모델 학습/예측/평가\n",
    "import seaborn as sns\n",
    "plt.figure(figsize = (9,9))\n",
    "corr=card_df.corr()\n",
    "sns.heatmap(corr, cmap='RdBu')\n",
    "# 상관관계 히트맵 (양의 상관관계가 높을수록 진한 파란색에 가까움)"
   ]
  },
  {
   "cell_type": "code",
   "execution_count": 45,
   "id": "a7604d21-e1ac-43e6-ab61-2bd13bba0229",
   "metadata": {},
   "outputs": [],
   "source": [
    "import numpy as np\n",
    "def get_outlier(df=None, column=None, weight=1.5) :\n",
    "    # fraud 에 해당하는 column 데이터만 추출, 1/4분위와 3/4 분위 지점을 np.percentile로 구함\n",
    "    fraud = df[df['Class']==1][column]\n",
    "    quantile_25 = np.percentile(fraud.values, 25)\n",
    "    quantile_75 = np.percentile(fraud.values, 75)\n",
    "    # IQR을 구하고 1.5를 곱해 최소/최대 지점 구함\n",
    "    iqr = quantile_75 - quantile_25\n",
    "    iqr_weight = iqr*weight\n",
    "    lowest_val = quantile_25 - iqr_weight\n",
    "    highest_val = quantile_75 + iqr_weight\n",
    "    # 최댓값보다 크거나 최솟값보다 작은 값을 이상치 데이터로 설정 후 DF인덱스 반환\n",
    "    outlier_index = fraud[(fraud < lowest_val) | (fraud > highest_val)].index\n",
    "    return outlier_index"
   ]
  },
  {
   "cell_type": "code",
   "execution_count": 46,
   "id": "0cf86663-b081-430c-a44f-813ce0d94d4e",
   "metadata": {},
   "outputs": [
    {
     "name": "stdout",
     "output_type": "stream",
     "text": [
      "이상치 데이터 인덱스 Index([8296, 8615, 9035, 9252], dtype='int64')\n"
     ]
    }
   ],
   "source": [
    "outlier_index = get_outlier(df=card_df, column='V14', weight=1.5)\n",
    "print('이상치 데이터 인덱스', outlier_index)"
   ]
  },
  {
   "cell_type": "code",
   "execution_count": 50,
   "id": "6af94e57-fefc-4023-89e3-ddc970de91bb",
   "metadata": {},
   "outputs": [
    {
     "name": "stdout",
     "output_type": "stream",
     "text": [
      "###로지스틱 회귀 예측 성능###\n",
      "오차 행렬\n",
      "[[85281    14]\n",
      " [   48    98]]\n",
      "\n",
      "정확도: 0.9993, 정밀도: 0.8750, 재현율: 0.6712, F1: 0.7597, ROC-AUC: 0.9743\n",
      "###lightgbm 예측 성능###\n",
      "오차 행렬\n",
      "[[85233    62]\n",
      " [   61    85]]\n",
      "\n",
      "정확도: 0.9986, 정밀도: 0.5782, 재현율: 0.5822, F1: 0.5802, ROC-AUC: 0.7905\n"
     ]
    }
   ],
   "source": [
    "# 이상치 추출 후 이를 삭제하는 로직 함수를 추가해 가공한 뒤 모델 재적용\n",
    "# def_processed_df 로그 변환 후 v14 피처의 이상치 데이터를 삭제하는 로직으로 변경\n",
    "def get_preprocessed_df(df=None) :\n",
    "    df_copy = df.copy()\n",
    "    amount_n = np.log1p(df_copy['Amount'])\n",
    "    df_copy.insert(0, 'Amount_scaled', amount_n)\n",
    "    df_copy.drop(['Time', 'Amount'], axis = 1, inplace=True)\n",
    "    # 이상치 데이터 삭제 로직 추가\n",
    "    outlier_index = get_outlier(df=df_copy, column='V14', weight=1.5)\n",
    "    df_copy.drop(outlier_index, axis=0, inplace=True)\n",
    "    return df_copy\n",
    "X_train, X_test, y_train, y_test = get_train_test_dataset(card_df)\n",
    "print('###로지스틱 회귀 예측 성능###')\n",
    "get_model_train_eval(lr_clf, ftr_train=X_train, ftr_test = X_test,\n",
    "                    tgt_train=y_train, tgt_test=y_test)\n",
    "print('###lightgbm 예측 성능###')\n",
    "get_model_train_eval(lgbm_clf, ftr_train=X_train,ftr_test = X_test, tgt_train=y_train, tgt_test=y_test)\n"
   ]
  },
  {
   "cell_type": "code",
   "execution_count": 55,
   "id": "51821191-4121-4ca4-89a5-dbae3219b298",
   "metadata": {},
   "outputs": [
    {
     "name": "stdout",
     "output_type": "stream",
     "text": [
      "smote 적용 전 학습용 피처/레이블 데이터 세트 :  (199362, 29) (199362,)\n",
      "SMOTE 적용 후 학습용 피처/레이블 데이터 세트 :  (398040, 29) (398040,)\n",
      "SMOTE 적용 후 레이블 값 분포 : \n",
      " Class\n",
      "0    199020\n",
      "1    199020\n",
      "Name: count, dtype: int64\n"
     ]
    }
   ],
   "source": [
    "from imblearn.over_sampling import SMOTE\n",
    "oversample = SMOTE()\n",
    "smote = SMOTE(random_state = 0)\n",
    "X_train_over, y_train_over = oversample.fit_resample(X_train, y_train)\n",
    "print('smote 적용 전 학습용 피처/레이블 데이터 세트 : ', X_train.shape, y_train.shape)\n",
    "print('SMOTE 적용 후 학습용 피처/레이블 데이터 세트 : ',X_train_over.shape, y_train_over.shape)\n",
    "print('SMOTE 적용 후 레이블 값 분포 : \\n', pd.Series(y_train_over).value_counts())\n",
    "oversample = SMOTE()\n",
    "# fit_sample 오류떠서 fit_resample 사용"
   ]
  },
  {
   "cell_type": "code",
   "execution_count": 57,
   "id": "248d5c01-866d-401b-8bed-c5207135622f",
   "metadata": {},
   "outputs": [
    {
     "name": "stdout",
     "output_type": "stream",
     "text": [
      "오차 행렬\n",
      "[[82960  2335]\n",
      " [   12   134]]\n",
      "\n",
      "정확도: 0.9725, 정밀도: 0.0543, 재현율: 0.9178, F1: 0.1025, ROC-AUC: 0.9737\n"
     ]
    }
   ],
   "source": [
    "lr_clf = LogisticRegression()\n",
    "# ftr train tgt train 인지값이 smote 증식된 X_train_over, y_train_over 변경 유의\n",
    "get_model_train_eval(lr_clf, ftr_train = X_train_over, ftr_test = X_test,\n",
    "                    tgt_train = y_train_over, tgt_test = y_test)"
   ]
  },
  {
   "cell_type": "code",
   "execution_count": 66,
   "id": "b6d19fc0-8050-479e-ad96-4a30061a82ca",
   "metadata": {},
   "outputs": [],
   "source": [
    "import matplotlib.pyplot as plt\n",
    "from sklearn.metrics import precision_recall_curve\n",
    "def precision_recall_curve_plot(y_test=None, pred_proba_c1=None):\n",
    "    # threshold ndarray와 이 threshold에 따른 정밀도, 재현율 ndarray 추출. \n",
    "    precisions, recalls, thresholds = precision_recall_curve( y_test, pred_proba_c1)\n",
    "    \n",
    "    # X축을 threshold값으로, Y축은 정밀도, 재현율 값으로 각각 Plot 수행. 정밀도는 점선으로 표시\n",
    "    plt.figure(figsize=(8,6))\n",
    "    threshold_boundary = thresholds.shape[0]\n",
    "    plt.plot(thresholds, precisions[0:threshold_boundary], linestyle='--', label='precision')\n",
    "    plt.plot(thresholds, recalls[0:threshold_boundary],label='recall')\n",
    "    \n",
    "    # threshold 값 X 축의 Scale을 0.1 단위로 변경\n",
    "    start, end = plt.xlim()\n",
    "    plt.xticks(np.round(np.arange(start, end, 0.1),2))\n",
    "    \n",
    "    # x축, y축 label과 legend, 그리고 grid 설정\n",
    "    plt.xlabel('Threshold value'); plt.ylabel('Precision and Recall value')\n",
    "    plt.legend(); plt.grid()\n",
    "    plt.show()"
   ]
  },
  {
   "cell_type": "code",
   "execution_count": 67,
   "id": "154a1f0f-023e-48cf-9a42-fce270552561",
   "metadata": {},
   "outputs": [
    {
     "data": {
      "image/png": "[encoded data removed]",
      "text/plain": [
       "<Figure size 800x600 with 1 Axes>"
      ]
     },
     "metadata": {},
     "output_type": "display_data"
    }
   ],
   "source": [
    "# 재현율 곡선을 통해 smote로 학습된 로지스틱 회귀 모델의 문제확인\n",
    "precision_recall_curve_plot(y_test, lr_clf.predict_proba(X_test)[:, 1])\n",
    "\n",
    "# 임곗값 0.99 이하에서는 재현율이 매우 좋고 정밀도가 극단적으로 낮다가 0.99 이상에서는 반대가 됨\n"
   ]
  },
  {
   "cell_type": "code",
   "execution_count": 70,
   "id": "6644a504-9158-409f-a77e-ad9dcacc401d",
   "metadata": {},
   "outputs": [
    {
     "name": "stdout",
     "output_type": "stream",
     "text": [
      "오차 행렬\n",
      "[[85288     7]\n",
      " [   22   124]]\n",
      "\n",
      "정확도: 0.9997, 정밀도: 0.9466, 재현율: 0.8493, F1: 0.8953, ROC-AUC: 0.9852\n"
     ]
    }
   ],
   "source": [
    "lgbm_clf = LGBMClassifier(n_estimators = 500, num_leaves=64, \n",
    "                         n_jobs = -1, boost_from_average=False)\n",
    "get_model_train_eval(lgbm_clf, ftr_train = X_train_over, ftr_test = X_test,\n",
    "                  tgt_train = y_train_over, tgt_test = y_test)"
   ]
  },
  {
   "cell_type": "markdown",
   "id": "f71a25a8-23dd-47ea-b83a-9b5a4d1ccb77",
   "metadata": {},
   "source": [
    "기본 스태킹 모델"
   ]
  },
  {
   "cell_type": "code",
   "execution_count": 74,
   "id": "2031f6e7-b46b-4448-88b1-712813a46b6b",
   "metadata": {},
   "outputs": [],
   "source": [
    "import numpy as np\n",
    "from sklearn.neighbors import KNeighborsClassifier\n",
    "from sklearn.ensemble import RandomForestClassifier\n",
    "from sklearn.tree import DecisionTreeClassifier\n",
    "from sklearn.linear_model import LogisticRegression\n",
    "from sklearn.ensemble import AdaBoostClassifier\n",
    "\n",
    "from sklearn.datasets import load_breast_cancer\n",
    "from sklearn.model_selection import train_test_split\n",
    "from sklearn.metrics import accuracy_score\n",
    "\n",
    "cancer_data = load_breast_cancer()\n",
    "\n",
    "X_data = cancer_data.data\n",
    "y_label = cancer_data.target\n",
    "\n",
    "X_train, X_test, y_train, y_test = train_test_split(X_data, \n",
    "                                                   y_label, test_size = 0.2,\n",
    "                                                   random_state=0)"
   ]
  },
  {
   "cell_type": "code",
   "execution_count": 76,
   "id": "9ce112dc-236c-4e27-beb4-15632386d4ab",
   "metadata": {},
   "outputs": [],
   "source": [
    "# 개별 ml 모델 생성\n",
    "knn_clf = KNeighborsClassifier(n_neighbors = 4)\n",
    "rf_clf = RandomForestClassifier(n_estimators = 100, random_state = 0)\n",
    "dt_clf = DecisionTreeClassifier()\n",
    "ada_clf = AdaBoostClassifier(n_estimators = 100)\n",
    "\n",
    "# 스태킹으로 만들어진 데이터를 학습,예측할 최종 모댈\n",
    "lr_final = LogisticRegression(C=10)"
   ]
  },
  {
   "cell_type": "code",
   "execution_count": 79,
   "id": "be96246a-1ff2-4920-ac30-a2c56aba5d35",
   "metadata": {},
   "outputs": [
    {
     "data": {
      "text/html": [
       "<style>#sk-container-id-1 {color: black;background-color: white;}#sk-container-id-1 pre{padding: 0;}#sk-container-id-1 div.sk-toggleable {background-color: white;}#sk-container-id-1 label.sk-toggleable__label {cursor: pointer;display: block;width: 100%;margin-bottom: 0;padding: 0.3em;box-sizing: border-box;text-align: center;}#sk-container-id-1 label.sk-toggleable__label-arrow:before {content: \"▸\";float: left;margin-right: 0.25em;color: #696969;}#sk-container-id-1 label.sk-toggleable__label-arrow:hover:before {color: black;}#sk-container-id-1 div.sk-estimator:hover label.sk-toggleable__label-arrow:before {color: black;}#sk-container-id-1 div.sk-toggleable__content {max-height: 0;max-width: 0;overflow: hidden;text-align: left;background-color: #f0f8ff;}#sk-container-id-1 div.sk-toggleable__content pre {margin: 0.2em;color: black;border-radius: 0.25em;background-color: #f0f8ff;}#sk-container-id-1 input.sk-toggleable__control:checked~div.sk-toggleable__content {max-height: 200px;max-width: 100%;overflow: auto;}#sk-container-id-1 input.sk-toggleable__control:checked~label.sk-toggleable__label-arrow:before {content: \"▾\";}#sk-container-id-1 div.sk-estimator input.sk-toggleable__control:checked~label.sk-toggleable__label {background-color: #d4ebff;}#sk-container-id-1 div.sk-label input.sk-toggleable__control:checked~label.sk-toggleable__label {background-color: #d4ebff;}#sk-container-id-1 input.sk-hidden--visually {border: 0;clip: rect(1px 1px 1px 1px);clip: rect(1px, 1px, 1px, 1px);height: 1px;margin: -1px;overflow: hidden;padding: 0;position: absolute;width: 1px;}#sk-container-id-1 div.sk-estimator {font-family: monospace;background-color: #f0f8ff;border: 1px dotted black;border-radius: 0.25em;box-sizing: border-box;margin-bottom: 0.5em;}#sk-container-id-1 div.sk-estimator:hover {background-color: #d4ebff;}#sk-container-id-1 div.sk-parallel-item::after {content: \"\";width: 100%;border-bottom: 1px solid gray;flex-grow: 1;}#sk-container-id-1 div.sk-label:hover label.sk-toggleable__label {background-color: #d4ebff;}#sk-container-id-1 div.sk-serial::before {content: \"\";position: absolute;border-left: 1px solid gray;box-sizing: border-box;top: 0;bottom: 0;left: 50%;z-index: 0;}#sk-container-id-1 div.sk-serial {display: flex;flex-direction: column;align-items: center;background-color: white;padding-right: 0.2em;padding-left: 0.2em;position: relative;}#sk-container-id-1 div.sk-item {position: relative;z-index: 1;}#sk-container-id-1 div.sk-parallel {display: flex;align-items: stretch;justify-content: center;background-color: white;position: relative;}#sk-container-id-1 div.sk-item::before, #sk-container-id-1 div.sk-parallel-item::before {content: \"\";position: absolute;border-left: 1px solid gray;box-sizing: border-box;top: 0;bottom: 0;left: 50%;z-index: -1;}#sk-container-id-1 div.sk-parallel-item {display: flex;flex-direction: column;z-index: 1;position: relative;background-color: white;}#sk-container-id-1 div.sk-parallel-item:first-child::after {align-self: flex-end;width: 50%;}#sk-container-id-1 div.sk-parallel-item:last-child::after {align-self: flex-start;width: 50%;}#sk-container-id-1 div.sk-parallel-item:only-child::after {width: 0;}#sk-container-id-1 div.sk-dashed-wrapped {border: 1px dashed gray;margin: 0 0.4em 0.5em 0.4em;box-sizing: border-box;padding-bottom: 0.4em;background-color: white;}#sk-container-id-1 div.sk-label label {font-family: monospace;font-weight: bold;display: inline-block;line-height: 1.2em;}#sk-container-id-1 div.sk-label-container {text-align: center;}#sk-container-id-1 div.sk-container {/* jupyter's `normalize.less` sets `[hidden] { display: none; }` but bootstrap.min.css set `[hidden] { display: none !important; }` so we also need the `!important` here to be able to override the default hidden behavior on the sphinx rendered scikit-learn.org. See: https://github.com/scikit-learn/scikit-learn/issues/21755 */display: inline-block !important;position: relative;}#sk-container-id-1 div.sk-text-repr-fallback {display: none;}</style><div id=\"sk-container-id-1\" class=\"sk-top-container\"><div class=\"sk-text-repr-fallback\"><pre>AdaBoostClassifier(n_estimators=100)</pre><b>In a Jupyter environment, please rerun this cell to show the HTML representation or trust the notebook. <br />On GitHub, the HTML representation is unable to render, please try loading this page with nbviewer.org.</b></div><div class=\"sk-container\" hidden><div class=\"sk-item\"><div class=\"sk-estimator sk-toggleable\"><input class=\"sk-toggleable__control sk-hidden--visually\" id=\"sk-estimator-id-1\" type=\"checkbox\" checked><label for=\"sk-estimator-id-1\" class=\"sk-toggleable__label sk-toggleable__label-arrow\">AdaBoostClassifier</label><div class=\"sk-toggleable__content\"><pre>AdaBoostClassifier(n_estimators=100)</pre></div></div></div></div></div>"
      ],
      "text/plain": [
       "AdaBoostClassifier(n_estimators=100)"
      ]
     },
     "execution_count": 79,
     "metadata": {},
     "output_type": "execute_result"
    }
   ],
   "source": [
    "knn_clf.fit(X_train, y_train)\n",
    "rf_clf.fit(X_train, y_train)\n",
    "dt_clf.fit(X_train, y_train)\n",
    "ada_clf.fit(X_train, y_train)"
   ]
  },
  {
   "cell_type": "code",
   "execution_count": 82,
   "id": "6a05cfd7-674c-421f-b83b-adc4d7c2dce6",
   "metadata": {},
   "outputs": [],
   "source": [
    "# 학습된 개별 모델이 각자 변화하는 예측 데이터 세트를 생성하고 개별 모델의 정확도 측정\n",
    "knn_pred = knn_clf.predict(X_test)\n",
    "rf_pred = rf_clf.predict(X_test)\n",
    "dt_pred = dt_clf.predict(X_test)\n",
    "ada_pred = ada_clf.predict(X_test)"
   ]
  },
  {
   "cell_type": "code",
   "execution_count": 83,
   "id": "046222de-8b03-460d-b0bd-84dba3ca2e51",
   "metadata": {},
   "outputs": [
    {
     "name": "stdout",
     "output_type": "stream",
     "text": [
      "knn 정확도 : 0.9211\n",
      "랜덤포레스트 정확도 : 0.9649\n",
      "결정 트리 정확도 : 0.9123\n",
      "에이다부스트 정확도 : 0.9561\n"
     ]
    }
   ],
   "source": [
    "print('knn 정확도 : {0:.4f}'.format(accuracy_score(y_test, knn_pred)))\n",
    "print('랜덤포레스트 정확도 : {0:.4f}'.format(accuracy_score(y_test, rf_pred)))\n",
    "print('결정 트리 정확도 : {0:.4f}'.format(accuracy_score(y_test, dt_pred)))\n",
    "print('에이다부스트 정확도 : {0:.4f}'.format(accuracy_score(y_test, ada_pred)))"
   ]
  },
  {
   "cell_type": "code",
   "execution_count": 84,
   "id": "d1f3d290-49e7-4742-bff5-fc7e77cd4675",
   "metadata": {},
   "outputs": [
    {
     "name": "stdout",
     "output_type": "stream",
     "text": [
      "(4, 114)\n",
      "(114, 4)\n"
     ]
    }
   ],
   "source": [
    "pred=  np.array([knn_pred, rf_pred, dt_pred, ada_pred])\n",
    "print(pred.shape)\n",
    "\n",
    "# transpose를 이용해 행/열 위치 교환 , 칼럼 레벨로 각 알고리즘의 예측 결과를 피처로 만듦\n",
    "pred = np.transpose(pred)\n",
    "print(pred.shape)"
   ]
  },
  {
   "cell_type": "code",
   "execution_count": 87,
   "id": "9415e3bc-ad57-43fd-9d00-4652f4d8923d",
   "metadata": {},
   "outputs": [
    {
     "name": "stdout",
     "output_type": "stream",
     "text": [
      "최종 메타 모델의 예측 정확도 : 0.9649\n"
     ]
    }
   ],
   "source": [
    "lr_final.fit(pred, y_test)\n",
    "final = lr_final.predict(pred)\n",
    "\n",
    "print('최종 메타 모델의 예측 정확도 : {0:.4f}'.format(accuracy_score(y_test, final)))"
   ]
  }
 ],
 "metadata": {
  "kernelspec": {
   "display_name": "Python 3 (ipykernel)",
   "language": "python",
   "name": "python3"
  },
  "language_info": {
   "codemirror_mode": {
    "name": "ipython",
    "version": 3
   },
   "file_extension": ".py",
   "mimetype": "text/x-python",
   "name": "python",
   "nbconvert_exporter": "python",
   "pygments_lexer": "ipython3",
   "version": "3.11.7"
  }
 },
 "nbformat": 4,
 "nbformat_minor": 5
}
